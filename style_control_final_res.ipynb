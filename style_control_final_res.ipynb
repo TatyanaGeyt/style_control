{
  "cells": [
    {
      "cell_type": "code",
      "execution_count": null,
      "metadata": {
        "colab": {
          "base_uri": "https://localhost:8080/"
        },
        "id": "fu2-wG677lRI",
        "outputId": "aeaae839-4614-487e-f68b-fc73b3575298"
      },
      "outputs": [
        {
          "name": "stdout",
          "output_type": "stream",
          "text": [
            "/bin/bash: line 1: nvidia-smi: command not found\n"
          ]
        }
      ],
      "source": [
        "!nvidia-smi"
      ]
    },
    {
      "cell_type": "code",
      "execution_count": 1,
      "metadata": {
        "colab": {
          "base_uri": "https://localhost:8080/"
        },
        "id": "KED8ebwa4-cQ",
        "outputId": "1b528efd-8f49-4260-e1b6-f1987b2deecd"
      },
      "outputs": [
        {
          "name": "stdout",
          "output_type": "stream",
          "text": [
            "Requirement already satisfied: tiktoken in /usr/local/lib/python3.11/dist-packages (0.9.0)\n",
            "Requirement already satisfied: regex>=2022.1.18 in /usr/local/lib/python3.11/dist-packages (from tiktoken) (2024.11.6)\n",
            "Requirement already satisfied: requests>=2.26.0 in /usr/local/lib/python3.11/dist-packages (from tiktoken) (2.32.3)\n",
            "Requirement already satisfied: charset-normalizer<4,>=2 in /usr/local/lib/python3.11/dist-packages (from requests>=2.26.0->tiktoken) (3.4.2)\n",
            "Requirement already satisfied: idna<4,>=2.5 in /usr/local/lib/python3.11/dist-packages (from requests>=2.26.0->tiktoken) (3.10)\n",
            "Requirement already satisfied: urllib3<3,>=1.21.1 in /usr/local/lib/python3.11/dist-packages (from requests>=2.26.0->tiktoken) (2.4.0)\n",
            "Requirement already satisfied: certifi>=2017.4.17 in /usr/local/lib/python3.11/dist-packages (from requests>=2.26.0->tiktoken) (2025.4.26)\n",
            "Requirement already satisfied: shortuuid in /usr/local/lib/python3.11/dist-packages (1.0.13)\n"
          ]
        }
      ],
      "source": [
        "!pip install -U tiktoken\n",
        "!pip install -U shortuuid"
      ]
    },
    {
      "cell_type": "code",
      "execution_count": 2,
      "metadata": {
        "colab": {
          "base_uri": "https://localhost:8080/"
        },
        "id": "-bWa6ixt5XuI",
        "outputId": "533d0317-67e5-4bfb-b303-b8f409ac138e"
      },
      "outputs": [
        {
          "name": "stdout",
          "output_type": "stream",
          "text": [
            "Requirement already satisfied: transformers==4.45.2 in /usr/local/lib/python3.11/dist-packages (4.45.2)\n",
            "Requirement already satisfied: filelock in /usr/local/lib/python3.11/dist-packages (from transformers==4.45.2) (3.18.0)\n",
            "Requirement already satisfied: huggingface-hub<1.0,>=0.23.2 in /usr/local/lib/python3.11/dist-packages (from transformers==4.45.2) (0.31.2)\n",
            "Requirement already satisfied: numpy>=1.17 in /usr/local/lib/python3.11/dist-packages (from transformers==4.45.2) (2.0.2)\n",
            "Requirement already satisfied: packaging>=20.0 in /usr/local/lib/python3.11/dist-packages (from transformers==4.45.2) (24.2)\n",
            "Requirement already satisfied: pyyaml>=5.1 in /usr/local/lib/python3.11/dist-packages (from transformers==4.45.2) (6.0.2)\n",
            "Requirement already satisfied: regex!=2019.12.17 in /usr/local/lib/python3.11/dist-packages (from transformers==4.45.2) (2024.11.6)\n",
            "Requirement already satisfied: requests in /usr/local/lib/python3.11/dist-packages (from transformers==4.45.2) (2.32.3)\n",
            "Requirement already satisfied: safetensors>=0.4.1 in /usr/local/lib/python3.11/dist-packages (from transformers==4.45.2) (0.5.3)\n",
            "Requirement already satisfied: tokenizers<0.21,>=0.20 in /usr/local/lib/python3.11/dist-packages (from transformers==4.45.2) (0.20.3)\n",
            "Requirement already satisfied: tqdm>=4.27 in /usr/local/lib/python3.11/dist-packages (from transformers==4.45.2) (4.67.1)\n",
            "Requirement already satisfied: fsspec>=2023.5.0 in /usr/local/lib/python3.11/dist-packages (from huggingface-hub<1.0,>=0.23.2->transformers==4.45.2) (2025.3.0)\n",
            "Requirement already satisfied: typing-extensions>=3.7.4.3 in /usr/local/lib/python3.11/dist-packages (from huggingface-hub<1.0,>=0.23.2->transformers==4.45.2) (4.13.2)\n",
            "Requirement already satisfied: charset-normalizer<4,>=2 in /usr/local/lib/python3.11/dist-packages (from requests->transformers==4.45.2) (3.4.2)\n",
            "Requirement already satisfied: idna<4,>=2.5 in /usr/local/lib/python3.11/dist-packages (from requests->transformers==4.45.2) (3.10)\n",
            "Requirement already satisfied: urllib3<3,>=1.21.1 in /usr/local/lib/python3.11/dist-packages (from requests->transformers==4.45.2) (2.4.0)\n",
            "Requirement already satisfied: certifi>=2017.4.17 in /usr/local/lib/python3.11/dist-packages (from requests->transformers==4.45.2) (2025.4.26)\n",
            "Requirement already satisfied: datasets in /usr/local/lib/python3.11/dist-packages (3.6.0)\n",
            "Requirement already satisfied: filelock in /usr/local/lib/python3.11/dist-packages (from datasets) (3.18.0)\n",
            "Requirement already satisfied: numpy>=1.17 in /usr/local/lib/python3.11/dist-packages (from datasets) (2.0.2)\n",
            "Requirement already satisfied: pyarrow>=15.0.0 in /usr/local/lib/python3.11/dist-packages (from datasets) (18.1.0)\n",
            "Requirement already satisfied: dill<0.3.9,>=0.3.0 in /usr/local/lib/python3.11/dist-packages (from datasets) (0.3.7)\n",
            "Requirement already satisfied: pandas in /usr/local/lib/python3.11/dist-packages (from datasets) (2.2.2)\n",
            "Requirement already satisfied: requests>=2.32.2 in /usr/local/lib/python3.11/dist-packages (from datasets) (2.32.3)\n",
            "Requirement already satisfied: tqdm>=4.66.3 in /usr/local/lib/python3.11/dist-packages (from datasets) (4.67.1)\n",
            "Requirement already satisfied: xxhash in /usr/local/lib/python3.11/dist-packages (from datasets) (3.5.0)\n",
            "Requirement already satisfied: multiprocess<0.70.17 in /usr/local/lib/python3.11/dist-packages (from datasets) (0.70.15)\n",
            "Requirement already satisfied: fsspec<=2025.3.0,>=2023.1.0 in /usr/local/lib/python3.11/dist-packages (from fsspec[http]<=2025.3.0,>=2023.1.0->datasets) (2025.3.0)\n",
            "Requirement already satisfied: huggingface-hub>=0.24.0 in /usr/local/lib/python3.11/dist-packages (from datasets) (0.31.2)\n",
            "Requirement already satisfied: packaging in /usr/local/lib/python3.11/dist-packages (from datasets) (24.2)\n",
            "Requirement already satisfied: pyyaml>=5.1 in /usr/local/lib/python3.11/dist-packages (from datasets) (6.0.2)\n",
            "Requirement already satisfied: aiohttp!=4.0.0a0,!=4.0.0a1 in /usr/local/lib/python3.11/dist-packages (from fsspec[http]<=2025.3.0,>=2023.1.0->datasets) (3.11.15)\n",
            "Requirement already satisfied: typing-extensions>=3.7.4.3 in /usr/local/lib/python3.11/dist-packages (from huggingface-hub>=0.24.0->datasets) (4.13.2)\n",
            "Requirement already satisfied: charset-normalizer<4,>=2 in /usr/local/lib/python3.11/dist-packages (from requests>=2.32.2->datasets) (3.4.2)\n",
            "Requirement already satisfied: idna<4,>=2.5 in /usr/local/lib/python3.11/dist-packages (from requests>=2.32.2->datasets) (3.10)\n",
            "Requirement already satisfied: urllib3<3,>=1.21.1 in /usr/local/lib/python3.11/dist-packages (from requests>=2.32.2->datasets) (2.4.0)\n",
            "Requirement already satisfied: certifi>=2017.4.17 in /usr/local/lib/python3.11/dist-packages (from requests>=2.32.2->datasets) (2025.4.26)\n",
            "Requirement already satisfied: python-dateutil>=2.8.2 in /usr/local/lib/python3.11/dist-packages (from pandas->datasets) (2.9.0.post0)\n",
            "Requirement already satisfied: pytz>=2020.1 in /usr/local/lib/python3.11/dist-packages (from pandas->datasets) (2025.2)\n",
            "Requirement already satisfied: tzdata>=2022.7 in /usr/local/lib/python3.11/dist-packages (from pandas->datasets) (2025.2)\n",
            "Requirement already satisfied: aiohappyeyeballs>=2.3.0 in /usr/local/lib/python3.11/dist-packages (from aiohttp!=4.0.0a0,!=4.0.0a1->fsspec[http]<=2025.3.0,>=2023.1.0->datasets) (2.6.1)\n",
            "Requirement already satisfied: aiosignal>=1.1.2 in /usr/local/lib/python3.11/dist-packages (from aiohttp!=4.0.0a0,!=4.0.0a1->fsspec[http]<=2025.3.0,>=2023.1.0->datasets) (1.3.2)\n",
            "Requirement already satisfied: attrs>=17.3.0 in /usr/local/lib/python3.11/dist-packages (from aiohttp!=4.0.0a0,!=4.0.0a1->fsspec[http]<=2025.3.0,>=2023.1.0->datasets) (25.3.0)\n",
            "Requirement already satisfied: frozenlist>=1.1.1 in /usr/local/lib/python3.11/dist-packages (from aiohttp!=4.0.0a0,!=4.0.0a1->fsspec[http]<=2025.3.0,>=2023.1.0->datasets) (1.6.0)\n",
            "Requirement already satisfied: multidict<7.0,>=4.5 in /usr/local/lib/python3.11/dist-packages (from aiohttp!=4.0.0a0,!=4.0.0a1->fsspec[http]<=2025.3.0,>=2023.1.0->datasets) (6.4.3)\n",
            "Requirement already satisfied: propcache>=0.2.0 in /usr/local/lib/python3.11/dist-packages (from aiohttp!=4.0.0a0,!=4.0.0a1->fsspec[http]<=2025.3.0,>=2023.1.0->datasets) (0.3.1)\n",
            "Requirement already satisfied: yarl<2.0,>=1.17.0 in /usr/local/lib/python3.11/dist-packages (from aiohttp!=4.0.0a0,!=4.0.0a1->fsspec[http]<=2025.3.0,>=2023.1.0->datasets) (1.20.0)\n",
            "Requirement already satisfied: six>=1.5 in /usr/local/lib/python3.11/dist-packages (from python-dateutil>=2.8.2->pandas->datasets) (1.17.0)\n",
            "Requirement already satisfied: rouge-score in /usr/local/lib/python3.11/dist-packages (0.1.2)\n",
            "Requirement already satisfied: absl-py in /usr/local/lib/python3.11/dist-packages (from rouge-score) (1.4.0)\n",
            "Requirement already satisfied: nltk in /usr/local/lib/python3.11/dist-packages (from rouge-score) (3.9.1)\n",
            "Requirement already satisfied: numpy in /usr/local/lib/python3.11/dist-packages (from rouge-score) (2.0.2)\n",
            "Requirement already satisfied: six>=1.14.0 in /usr/local/lib/python3.11/dist-packages (from rouge-score) (1.17.0)\n",
            "Requirement already satisfied: click in /usr/local/lib/python3.11/dist-packages (from nltk->rouge-score) (8.2.0)\n",
            "Requirement already satisfied: joblib in /usr/local/lib/python3.11/dist-packages (from nltk->rouge-score) (1.5.0)\n",
            "Requirement already satisfied: regex>=2021.8.3 in /usr/local/lib/python3.11/dist-packages (from nltk->rouge-score) (2024.11.6)\n",
            "Requirement already satisfied: tqdm in /usr/local/lib/python3.11/dist-packages (from nltk->rouge-score) (4.67.1)\n",
            "Requirement already satisfied: pymorphy3 in /usr/local/lib/python3.11/dist-packages (2.0.3)\n",
            "Requirement already satisfied: dawg2-python>=0.8.0 in /usr/local/lib/python3.11/dist-packages (from pymorphy3) (0.9.0)\n",
            "Requirement already satisfied: pymorphy3-dicts-ru in /usr/local/lib/python3.11/dist-packages (from pymorphy3) (2.4.417150.4580142)\n",
            "Requirement already satisfied: peft in /usr/local/lib/python3.11/dist-packages (0.15.2)\n",
            "Requirement already satisfied: numpy>=1.17 in /usr/local/lib/python3.11/dist-packages (from peft) (2.0.2)\n",
            "Requirement already satisfied: packaging>=20.0 in /usr/local/lib/python3.11/dist-packages (from peft) (24.2)\n",
            "Requirement already satisfied: psutil in /usr/local/lib/python3.11/dist-packages (from peft) (5.9.5)\n",
            "Requirement already satisfied: pyyaml in /usr/local/lib/python3.11/dist-packages (from peft) (6.0.2)\n",
            "Requirement already satisfied: torch>=1.13.0 in /usr/local/lib/python3.11/dist-packages (from peft) (2.6.0+cu124)\n",
            "Requirement already satisfied: transformers in /usr/local/lib/python3.11/dist-packages (from peft) (4.45.2)\n",
            "Requirement already satisfied: tqdm in /usr/local/lib/python3.11/dist-packages (from peft) (4.67.1)\n",
            "Requirement already satisfied: accelerate>=0.21.0 in /usr/local/lib/python3.11/dist-packages (from peft) (1.6.0)\n",
            "Requirement already satisfied: safetensors in /usr/local/lib/python3.11/dist-packages (from peft) (0.5.3)\n",
            "Requirement already satisfied: huggingface_hub>=0.25.0 in /usr/local/lib/python3.11/dist-packages (from peft) (0.31.2)\n",
            "Requirement already satisfied: filelock in /usr/local/lib/python3.11/dist-packages (from huggingface_hub>=0.25.0->peft) (3.18.0)\n",
            "Requirement already satisfied: fsspec>=2023.5.0 in /usr/local/lib/python3.11/dist-packages (from huggingface_hub>=0.25.0->peft) (2025.3.0)\n",
            "Requirement already satisfied: requests in /usr/local/lib/python3.11/dist-packages (from huggingface_hub>=0.25.0->peft) (2.32.3)\n",
            "Requirement already satisfied: typing-extensions>=3.7.4.3 in /usr/local/lib/python3.11/dist-packages (from huggingface_hub>=0.25.0->peft) (4.13.2)\n",
            "Requirement already satisfied: networkx in /usr/local/lib/python3.11/dist-packages (from torch>=1.13.0->peft) (3.4.2)\n",
            "Requirement already satisfied: jinja2 in /usr/local/lib/python3.11/dist-packages (from torch>=1.13.0->peft) (3.1.6)\n",
            "Requirement already satisfied: nvidia-cuda-nvrtc-cu12==12.4.127 in /usr/local/lib/python3.11/dist-packages (from torch>=1.13.0->peft) (12.4.127)\n",
            "Requirement already satisfied: nvidia-cuda-runtime-cu12==12.4.127 in /usr/local/lib/python3.11/dist-packages (from torch>=1.13.0->peft) (12.4.127)\n",
            "Requirement already satisfied: nvidia-cuda-cupti-cu12==12.4.127 in /usr/local/lib/python3.11/dist-packages (from torch>=1.13.0->peft) (12.4.127)\n",
            "Requirement already satisfied: nvidia-cudnn-cu12==9.1.0.70 in /usr/local/lib/python3.11/dist-packages (from torch>=1.13.0->peft) (9.1.0.70)\n",
            "Requirement already satisfied: nvidia-cublas-cu12==12.4.5.8 in /usr/local/lib/python3.11/dist-packages (from torch>=1.13.0->peft) (12.4.5.8)\n",
            "Requirement already satisfied: nvidia-cufft-cu12==11.2.1.3 in /usr/local/lib/python3.11/dist-packages (from torch>=1.13.0->peft) (11.2.1.3)\n",
            "Requirement already satisfied: nvidia-curand-cu12==10.3.5.147 in /usr/local/lib/python3.11/dist-packages (from torch>=1.13.0->peft) (10.3.5.147)\n",
            "Requirement already satisfied: nvidia-cusolver-cu12==11.6.1.9 in /usr/local/lib/python3.11/dist-packages (from torch>=1.13.0->peft) (11.6.1.9)\n",
            "Requirement already satisfied: nvidia-cusparse-cu12==12.3.1.170 in /usr/local/lib/python3.11/dist-packages (from torch>=1.13.0->peft) (12.3.1.170)\n",
            "Requirement already satisfied: nvidia-cusparselt-cu12==0.6.2 in /usr/local/lib/python3.11/dist-packages (from torch>=1.13.0->peft) (0.6.2)\n",
            "Requirement already satisfied: nvidia-nccl-cu12==2.21.5 in /usr/local/lib/python3.11/dist-packages (from torch>=1.13.0->peft) (2.21.5)\n",
            "Requirement already satisfied: nvidia-nvtx-cu12==12.4.127 in /usr/local/lib/python3.11/dist-packages (from torch>=1.13.0->peft) (12.4.127)\n",
            "Requirement already satisfied: nvidia-nvjitlink-cu12==12.4.127 in /usr/local/lib/python3.11/dist-packages (from torch>=1.13.0->peft) (12.4.127)\n",
            "Requirement already satisfied: triton==3.2.0 in /usr/local/lib/python3.11/dist-packages (from torch>=1.13.0->peft) (3.2.0)\n",
            "Requirement already satisfied: sympy==1.13.1 in /usr/local/lib/python3.11/dist-packages (from torch>=1.13.0->peft) (1.13.1)\n",
            "Requirement already satisfied: mpmath<1.4,>=1.1.0 in /usr/local/lib/python3.11/dist-packages (from sympy==1.13.1->torch>=1.13.0->peft) (1.3.0)\n",
            "Requirement already satisfied: regex!=2019.12.17 in /usr/local/lib/python3.11/dist-packages (from transformers->peft) (2024.11.6)\n",
            "Requirement already satisfied: tokenizers<0.21,>=0.20 in /usr/local/lib/python3.11/dist-packages (from transformers->peft) (0.20.3)\n",
            "Requirement already satisfied: MarkupSafe>=2.0 in /usr/local/lib/python3.11/dist-packages (from jinja2->torch>=1.13.0->peft) (3.0.2)\n",
            "Requirement already satisfied: charset-normalizer<4,>=2 in /usr/local/lib/python3.11/dist-packages (from requests->huggingface_hub>=0.25.0->peft) (3.4.2)\n",
            "Requirement already satisfied: idna<4,>=2.5 in /usr/local/lib/python3.11/dist-packages (from requests->huggingface_hub>=0.25.0->peft) (3.10)\n",
            "Requirement already satisfied: urllib3<3,>=1.21.1 in /usr/local/lib/python3.11/dist-packages (from requests->huggingface_hub>=0.25.0->peft) (2.4.0)\n",
            "Requirement already satisfied: certifi>=2017.4.17 in /usr/local/lib/python3.11/dist-packages (from requests->huggingface_hub>=0.25.0->peft) (2025.4.26)\n",
            "Requirement already satisfied: evalica in /usr/local/lib/python3.11/dist-packages (0.3.2)\n",
            "Requirement already satisfied: numpy>=1.16.0 in /usr/local/lib/python3.11/dist-packages (from evalica) (2.0.2)\n",
            "Requirement already satisfied: pandas in /usr/local/lib/python3.11/dist-packages (from evalica) (2.2.2)\n",
            "Requirement already satisfied: python-dateutil>=2.8.2 in /usr/local/lib/python3.11/dist-packages (from pandas->evalica) (2.9.0.post0)\n",
            "Requirement already satisfied: pytz>=2020.1 in /usr/local/lib/python3.11/dist-packages (from pandas->evalica) (2025.2)\n",
            "Requirement already satisfied: tzdata>=2022.7 in /usr/local/lib/python3.11/dist-packages (from pandas->evalica) (2025.2)\n",
            "Requirement already satisfied: six>=1.5 in /usr/local/lib/python3.11/dist-packages (from python-dateutil>=2.8.2->pandas->evalica) (1.17.0)\n"
          ]
        }
      ],
      "source": [
        "!pip install -U transformers==4.45.2\n",
        "!pip install -U datasets\n",
        "!pip install -U rouge-score\n",
        "!pip install -U pymorphy3\n",
        "!pip install -U peft\n",
        "!pip install -U evalica"
      ]
    },
    {
      "cell_type": "code",
      "execution_count": 4,
      "metadata": {
        "colab": {
          "base_uri": "https://localhost:8080/"
        },
        "id": "h4C10hkP4g0J",
        "outputId": "f8d05107-baa3-48d6-f3e7-0025800b642b"
      },
      "outputs": [
        {
          "name": "stdout",
          "output_type": "stream",
          "text": [
            "Cloning into 'llmtf_open'...\n",
            "remote: Enumerating objects: 655, done.\u001b[K\n",
            "remote: Counting objects: 100% (235/235), done.\u001b[K\n",
            "remote: Compressing objects: 100% (161/161), done.\u001b[K\n",
            "remote: Total 655 (delta 161), reused 141 (delta 73), pack-reused 420 (from 1)\u001b[K\n",
            "Receiving objects: 100% (655/655), 2.32 MiB | 4.82 MiB/s, done.\n",
            "Resolving deltas: 100% (446/446), done.\n"
          ]
        }
      ],
      "source": [
        "!git clone https://github.com/RefalMachine/llmtf_open"
      ]
    },
    {
      "cell_type": "code",
      "execution_count": 4,
      "metadata": {
        "colab": {
          "base_uri": "https://localhost:8080/"
        },
        "id": "aDAlag4u4z64",
        "outputId": "65c0778e-d236-465a-f85f-0d8a52483a21"
      },
      "outputs": [
        {
          "name": "stdout",
          "output_type": "stream",
          "text": [
            "/content/llmtf_open\n",
            "conversation_configs\t  README.md\n",
            "cur_battles.json\t  requirements.txt\n",
            "Dockerfile\t\t  run_evaluate_multinode_multigpu.py\n",
            "eval_grammar.py\t\t  run_evaluate_multinode_multigpu.sh\n",
            "evaluate_model.py\t  run_evaluate_singlenode_multigpu.sh\n",
            "examples\t\t  run_llm_as_a_judge.py\n",
            "gigachat_output\t\t  task_RuadaptQwen_32B\n",
            "gpt_mini_output\t\t  task_RuadaptQwen_7B\n",
            "llama3-70b\t\t  task_tlite\n",
            "llm_as_a_judge_baselines  task_tpro\n",
            "llmtf\t\t\t  task_vikhr12b\n",
            "previous_battles.json\t  task_yagpt5lite\n",
            "qwen_output\t\t  todo.txt\n"
          ]
        }
      ],
      "source": [
        "%cd llmtf_open\n",
        "!ls"
      ]
    },
    {
      "cell_type": "code",
      "execution_count": 5,
      "metadata": {
        "id": "7N2Vvp5Z46Gp"
      },
      "outputs": [],
      "source": [
        "import os\n",
        "import subprocess\n",
        "import codecs\n",
        "import json\n",
        "import tiktoken\n",
        "import shortuuid\n",
        "import time"
      ]
    },
    {
      "cell_type": "code",
      "execution_count": 6,
      "metadata": {
        "id": "PdM1UVPQ488S"
      },
      "outputs": [],
      "source": [
        "# from llmtf.tasks.llm_as_a_judge import LLMAsJudge\n",
        "from llmtf.evaluator import Evaluator\n",
        "from llmtf.model import ApiVLLMModel"
      ]
    },
    {
      "cell_type": "code",
      "execution_count": 7,
      "metadata": {
        "id": "Rm_B9vt3p75t"
      },
      "outputs": [],
      "source": [
        "from llmtf.base import Task, LLM\n",
        "from typing import List, Dict, Tuple\n",
        "import copy\n",
        "import pandas as pd\n",
        "import numpy as np\n",
        "from tqdm import tqdm\n",
        "from evalica import bradley_terry, Winner, pairwise_frame\n",
        "from functools import partial\n",
        "from scipy.special import expit\n",
        "from scipy.optimize import minimize\n",
        "from math import log\n",
        "from random import randint\n",
        "import re\n",
        "\n",
        "tqdm.pandas()"
      ]
    },
    {
      "cell_type": "code",
      "execution_count": 9,
      "metadata": {
        "id": "GQAeonQkL6kS"
      },
      "outputs": [],
      "source": [
        "STYLE_CONTROL_ELEMENTS = [\n",
        "    \"len_answer\",\n",
        "    \"header_count\",\n",
        "    \"list_count\",\n",
        "    \"bold_count\",\n",
        "    \"code_blocks_count\"\n",
        "]\n",
        "\n",
        "DIFF_MASK = np.array([1.0, -1.0], dtype=np.float64)\n",
        "\n",
        "def count_style_elements(markdown_text):\n",
        "    def remove_pattern(answer, pattern):\n",
        "        blocks = pattern.findall(answer)\n",
        "        for block in blocks:\n",
        "            answer = answer.replace(block, \"\")\n",
        "        return answer\n",
        "\n",
        "    len_answer = len(markdown_text)\n",
        "    code_count = len(re.findall(r\"```[^`]+```\", markdown_text))\n",
        "    code_pattern = re.compile(\"```([^`]+)```\")\n",
        "    markdown_text = remove_pattern(markdown_text, code_pattern)\n",
        "    markdown_text = markdown_text.replace(\"```\", \"\")\n",
        "\n",
        "    mono_count = len(re.findall(r\"`[^`]+`\", markdown_text))\n",
        "    mono_pattern = re.compile(\"`([^`]+)`\")\n",
        "    markdown_text = remove_pattern(markdown_text, mono_pattern)\n",
        "    counters = {\n",
        "        f\"len_answer\": len_answer,\n",
        "        f\"header_count\": {\n",
        "            \"h1\": len(re.findall(r\"^#{1}\\s\", markdown_text, re.MULTILINE)),\n",
        "            \"h2\": len(re.findall(r\"^#{2}\\s\", markdown_text, re.MULTILINE)),\n",
        "            \"h3\": len(re.findall(r\"^#{3}\\s\", markdown_text, re.MULTILINE)),\n",
        "            \"h4\": len(re.findall(r\"^#{4}\\s\", markdown_text, re.MULTILINE)),\n",
        "            \"h5\": len(re.findall(r\"^#{5}\\s\", markdown_text, re.MULTILINE)),\n",
        "            \"h6\": len(re.findall(r\"^#{6}\\s\", markdown_text, re.MULTILINE)),\n",
        "        },\n",
        "        f\"list_count\": {\n",
        "            \"ordered\": len(re.findall(r\"^\\s*\\d+\\.\\s\", markdown_text, re.MULTILINE)),\n",
        "            \"unordered\": len(re.findall(r\"^\\s*[-*+]\\s\", markdown_text, re.MULTILINE)),\n",
        "        },\n",
        "        f\"bold_count\": {\n",
        "            \"**\": len(re.findall(r\"\\*\\*[^*\\n]+\\*\\*\", markdown_text)),\n",
        "            \"__\": len(re.findall(r\"__[^_\\n]+__\", markdown_text)),\n",
        "        },\n",
        "        f\"code_blocks_count\": {\n",
        "            \"`\": mono_count,\n",
        "            \"```\": code_count,\n",
        "        },\n",
        "    }\n",
        "    return counters\n",
        "\n",
        "\n",
        "def extract_style_feature(x, feature):\n",
        "    val = x[feature]\n",
        "    if isinstance(val, int):\n",
        "        return val\n",
        "    else:\n",
        "        return sum(val.values())\n",
        "\n",
        "\n",
        "def get_element_counts(text):\n",
        "    style_elements = count_style_elements(text)\n",
        "    el_counts = []\n",
        "    for feature in style_elements:\n",
        "        el_counts.append(extract_style_feature(style_elements, feature))\n",
        "    return el_counts\n",
        "\n",
        "\n",
        "def calculate_style(\n",
        "    model_a: pd.Series,\n",
        "    model_b: pd.Series,\n",
        "    style_elements: list[str]=STYLE_CONTROL_ELEMENTS\n",
        "):\n",
        "    n_features = len(style_elements)\n",
        "    n_battles = model_a.shape[0]\n",
        "    style_matrix = np.zeros(shape=(2*n_features, n_battles))\n",
        "    for idx, element in enumerate(style_elements):\n",
        "        style_matrix[idx, :] = np.array([el[idx] for el in model_a])\n",
        "    for idx, element in enumerate(style_elements):\n",
        "        style_matrix[n_features + idx, :] = np.array([el[idx] for el in model_b])\n",
        "    style_diff = (style_matrix[:n_features] - style_matrix[n_features]).astype(float)\n",
        "    style_sum = (style_matrix[:n_features] + style_matrix[n_features]).astype(float)\n",
        "\n",
        "    style_diff /= style_sum\n",
        "\n",
        "    style_mean = np.mean(style_diff, axis=1)\n",
        "    style_std = np.std(style_diff, axis=1)\n",
        "    features = ((style_diff - style_mean[:, np.newaxis]) / style_std[:, np.newaxis]).T\n",
        "\n",
        "    return features\n",
        "\n",
        "\n",
        "def get_matchups_models(model_a: pd.Series, model_b: pd.Series):\n",
        "    n_rows = len(model_a)\n",
        "    assert len(model_b) == n_rows\n",
        "    model_indices, models = pd.factorize(pd.concat([model_a, model_b]))\n",
        "    matchups = np.column_stack([model_indices[:n_rows], model_indices[n_rows:]])\n",
        "    return matchups, models.to_list()\n",
        "\n",
        "\n",
        "def contextual_bt_loss_and_grad(\n",
        "    params,\n",
        "    n_competitors,\n",
        "    matchups,\n",
        "    features,\n",
        "    outcomes,\n",
        "    alpha=1.0,\n",
        "    reg=1.0,\n",
        "    half_reg=0.5,\n",
        "):\n",
        "    reg_loss = half_reg * np.inner(params, params)\n",
        "\n",
        "    ratings = params[:n_competitors]\n",
        "    feature_params = params[n_competitors:]\n",
        "\n",
        "    matchup_ratings = ratings[matchups]\n",
        "\n",
        "    bt_logits = alpha * (matchup_ratings[:, 0] - matchup_ratings[:, 1])\n",
        "    context_logits = np.dot(features, feature_params)\n",
        "    probs = expit(bt_logits + context_logits)\n",
        "    loss = (\n",
        "        -((np.log(probs) * outcomes + np.log(1.0 - probs) * (1.0 - outcomes))).sum()\n",
        "        + reg_loss\n",
        "    )\n",
        "\n",
        "    error = outcomes - probs\n",
        "    grad = reg * params\n",
        "    matchups_grads = -alpha * error\n",
        "    np.add.at(\n",
        "        grad[:n_competitors], matchups[:, [0, 1]], matchups_grads[:, None] * DIFF_MASK\n",
        "    )\n",
        "    # print('N_COMPETITORS:', grad[n_competitors:], type(grad[n_competitors:]))\n",
        "    # tmp = np.dot(features.T, error)\n",
        "    # print('ПРОИЗВЕДЕНИЕ:', tmp, type(tmp))\n",
        "    grad[n_competitors:] -= np.dot(features.T, error)\n",
        "\n",
        "    return loss, grad, expit(context_logits)\n",
        "\n",
        "\n",
        "def fit_contextual_bt(\n",
        "    matchups,\n",
        "    features,\n",
        "    outcomes,\n",
        "    models,\n",
        "    idxs=None,\n",
        "    alpha=log(10.0),\n",
        "    reg=0.5,\n",
        "    tol=1e-6,\n",
        "):\n",
        "    n_features = features.shape[1]\n",
        "    n_models = len(models)\n",
        "    initial_params = np.zeros(n_models + n_features, dtype=np.float64)\n",
        "    half_reg = reg / 2.0\n",
        "\n",
        "    if idxs is not None:\n",
        "        matchups, features, outcomes = matchups[idxs], features[idxs], outcomes[idxs]\n",
        "\n",
        "    result = minimize(\n",
        "        fun=contextual_bt_loss_and_grad,\n",
        "        x0=initial_params,\n",
        "        args=(n_models, matchups, features, outcomes, alpha, reg, half_reg),\n",
        "        jac=True,\n",
        "        method=\"L-BFGS-B\",\n",
        "        options={\"disp\": False, \"maxiter\": 100, \"gtol\": tol},\n",
        "    )\n",
        "    loss, grad, context_logits = contextual_bt_loss_and_grad(result[\"x\"], n_models, matchups, features, outcomes, alpha, reg, half_reg)\n",
        "    return result[\"x\"], loss, grad, context_logits\n",
        "\n",
        "\n",
        "def compute_style_control(\n",
        "    df: pd.DataFrame,\n",
        "    alpha=log(10.0), reg=0.5, tol=1e-6\n",
        "):\n",
        "    features = calculate_style(df.model_a_style, df.model_b_style)\n",
        "    matchups, models = get_matchups_models(df.model_a, df.model_b)\n",
        "    outcomes = df.winner.values\n",
        "    params, loss, grad, context_logits = fit_contextual_bt(\n",
        "        matchups,\n",
        "        features,\n",
        "        outcomes,\n",
        "        models=models,\n",
        "        alpha=alpha,\n",
        "        reg=reg,\n",
        "        tol=tol,\n",
        "    )\n",
        "    ratings = params[: len(models)]\n",
        "    weigths = params[len(models):]\n",
        "    return ratings, models, weigths, loss, grad, context_logits"
      ]
    },
    {
      "cell_type": "code",
      "execution_count": 20,
      "metadata": {
        "id": "svdSNwftpsPU"
      },
      "outputs": [],
      "source": [
        "def read_json(file_name):\n",
        "    with open(file_name, encoding=\"utf-8\") as r:\n",
        "        return json.load(r)\n",
        "\n",
        "\n",
        "def swap(data, key1, key2):\n",
        "    tmp = data[key1]\n",
        "    data[key1] = data[key2]\n",
        "    data[key2] = tmp\n",
        "\n",
        "\n",
        "class LLMAsJudge(Task):\n",
        "    def __init__(self, model_outputs: Dict, references_outputs: List[Dict], custom_instruction=None, style_control=True, pen_only_model=False, **kwargs):\n",
        "        super().__init__(**kwargs)\n",
        "        self.model_outputs = model_outputs\n",
        "        '''\n",
        "        model_outputs = {\n",
        "            'model_name': <name> -- имя `главной` модели\n",
        "            'path': <path> -- путь до ответов данной модели\n",
        "        }\n",
        "        '''\n",
        "        self.references_outputs = references_outputs\n",
        "        '''\n",
        "        reference_outputs = [dict, dict, ..., dict], всего с первой моделью сравниваются m=len(reference_outputs) моделей\n",
        "        reference_outputs[i] = {\n",
        "            'model_name': <name_i_model> -- имя сравниваемой модели\n",
        "            'path': <path_i_model> -- путь до ответов данной модели\n",
        "        }\n",
        "        '''\n",
        "        self.custom_instruction = custom_instruction\n",
        "        self.method = 'calculate_tokens_proba'\n",
        "        self.style_control = style_control\n",
        "        self.pen_only_model = pen_only_model\n",
        "        self._max_new_tokens = 1\n",
        "\n",
        "    @property\n",
        "    def choices(self) -> List:\n",
        "        return [\"m\", \"M\"]\n",
        "\n",
        "    @classmethod\n",
        "    def name(cls):\n",
        "        return 'llm_as_judge'\n",
        "\n",
        "    def _calculate_score(self, df, model_name):\n",
        "        # taken from https://github.com/VikhrModels/ru_llm_arena/blob/master/show_result.py\n",
        "        df['winner'] = df['winner'].map({\n",
        "                1: Winner.X,\n",
        "                0: Winner.Y\n",
        "        })\n",
        "\n",
        "        result = bradley_terry(\n",
        "            df['model_a'],\n",
        "            df['model_b'],\n",
        "            df['winner'],\n",
        "            weights=df['answer_style_deltas'],\n",
        "            tolerance=1e-8\n",
        "        )\n",
        "\n",
        "        df = pairwise_frame(result.scores)\n",
        "        np.fill_diagonal(df.values, np.nan)\n",
        "        return df.loc[model_name].mean()\n",
        "\n",
        "\n",
        "    def _confident_score_mean(self, results: Dict) -> Dict:\n",
        "        '''\n",
        "        На вход подаются\n",
        "        results = [\n",
        "            {\n",
        "                'p': <model_proba_i>,\n",
        "                'id': <id_i>,\n",
        "                'model_name': <model_name_i>,\n",
        "                'reference_model_name': <reference_model_name_i>,\n",
        "                'styles': {\n",
        "                    'model':      [x, x, x, x, x],\n",
        "                    'reference':  [x, x, x, x, x], # [ len_answer, header_count, list_count, bold_count, code_blocks_count ]\n",
        "                }\n",
        "            } for i in range(2*n*m) # на каждый instruction было по 2 sample\n",
        "        ]\n",
        "        '''\n",
        "\n",
        "        try:\n",
        "            with open('previous_battles.json', 'r', encoding='utf-8') as prev_file:\n",
        "                previous_battles: List[Dict] = json.load(prev_file)\n",
        "            if not isinstance(previous_battles, list):\n",
        "                raise ValueError(\"Файл должен содержать список словарей!\")\n",
        "            results += previous_battles\n",
        "            with open('previous_battles.json', 'w', encoding='utf-8') as f:\n",
        "                f.write('[\\n')\n",
        "                for i, item in enumerate(results):\n",
        "                    line = json.dumps(item, ensure_ascii=False)\n",
        "                    if i < len(results) - 1:\n",
        "                        line += ','\n",
        "                    f.write(f'  {line}\\n')  # 2 пробела для отступа\n",
        "                f.write(']')\n",
        "        except FileNotFoundError:\n",
        "            print(\"Файл previous_battles.json не найден. Создаём новый.\")\n",
        "            with open('previous_battles.json', 'w', encoding='utf-8') as f:\n",
        "                f.write('[\\n')\n",
        "                for i, item in enumerate(results):\n",
        "                    line = json.dumps(item, ensure_ascii=False)\n",
        "                    if i < len(results) - 1:\n",
        "                        line += ','\n",
        "                    f.write(f'  {line}\\n')  # 2 пробела для отступа\n",
        "                f.write(']')\n",
        "        except json.JSONDecodeError:\n",
        "            print(\"Ошибка: Файл содержит некорректный JSON.\")\n",
        "        except Exception as e:\n",
        "            print(f\"Неизвестная ошибка: {e}\")\n",
        "        else:\n",
        "            print(\"Данные перезаписаны\")\n",
        "        finally:\n",
        "            print(\"Начало регрессии\")\n",
        "\n",
        "\n",
        "        full_hash =  ['|'.join([str(r['id']), r['model_name'], r['reference_model_name']]) for r in results]\n",
        "        model_hash = ['|'.join([str(r['id']), r['model_name']]) for r in results]\n",
        "        reference_hash = ['|'.join([str(r['id']), r['reference_model_name']]) for r in results]\n",
        "\n",
        "        df = pd.DataFrame()\n",
        "        df['p'] = [r['p'] for r in results]\n",
        "        df['full_hash'] = full_hash\n",
        "        df['model_hash'] = model_hash\n",
        "        df['reference_hash'] = reference_hash\n",
        "\n",
        "        df['model_name'] = [r['model_name'] for r in results]\n",
        "        df['reference_model_name'] = [r['reference_model_name'] for r in results]\n",
        "\n",
        "        df['model_style'] = [np.array(r['styles']['model']) for r in results]\n",
        "        df['reference_style'] = [np.array(r['styles']['reference']) for r in results]\n",
        "\n",
        "        data = []\n",
        "        for _, group in df.groupby('model_hash'):\n",
        "            for _, subgroup in group.groupby('full_hash'):\n",
        "                # assert subgroup.shape[0] == 2\n",
        "                if (subgroup['model_name'] == subgroup['reference_model_name']).all(): # or (subgroup['model_style'].tolist()[0] == subgroup['reference_style'].tolist()[0]).all():\n",
        "                    continue\n",
        "                pred = int(subgroup['p'].mean() >= 0.5)\n",
        "\n",
        "                data.append([subgroup['model_name'].tolist()[0], subgroup['reference_model_name'].tolist()[0], pred, subgroup['model_style'].tolist()[0], subgroup['reference_style'].tolist()[0]])\n",
        "        new_df = pd.DataFrame(data, columns=['model_a', 'model_b', 'winner', 'model_a_style', 'model_b_style'])\n",
        "\n",
        "        ratings, models, weigths, loss, grad, context_logits = compute_style_control(new_df)\n",
        "        # ratings = scale_and_offset(ratings, models, new_df['model_a'][0])\n",
        "\n",
        "        print('----------------------------------------\\nRESULTS:')\n",
        "        for i in range(len(models)):\n",
        "            print(f\"{ratings[i]} - {models[i]}\")\n",
        "        print('----------------------------------------')\n",
        "\n",
        "        print('----------------------------------------\\nRESULTS:')\n",
        "        for i in range(len(models)):\n",
        "            print(f\"{str(models[i]):32} | {ratings[i]}\")\n",
        "        print('----------------------------------------')\n",
        "\n",
        "        print('RATINGS:\\n[')\n",
        "        for x in ratings:\n",
        "          print(f\"  {x},\")\n",
        "        print(']')\n",
        "\n",
        "        new_df['answer_style_deltas'] = context_logits\n",
        "\n",
        "        score = self._calculate_score(new_df, new_df['model_a'][0])\n",
        "\n",
        "        return score\n",
        "\n",
        "\n",
        "    def aggregation(self) -> Dict:\n",
        "        return {\"score\": self._confident_score_mean}\n",
        "\n",
        "\n",
        "    def evaluate(self, sample, y_pred) -> Dict:\n",
        "        model_proba = float(y_pred[sample['model_label']])\n",
        "        model_mask_mapping = lambda x: 'model' if x == sample['model_label'] else 'reference'\n",
        "        styles = {\n",
        "            model_mask_mapping('m'): get_element_counts(sample['output_m']),\n",
        "            model_mask_mapping('M'): get_element_counts(sample['output_M'])\n",
        "        }\n",
        "        '''\n",
        "        styles = {\n",
        "            'model':      [x, x, x, x, x],\n",
        "            'reference':  [x, x, x, x, x],\n",
        "        }, where the elements of the array correspond to:\n",
        "            [ len_answer, header_count, list_count, bold_count, code_blocks_count ]\n",
        "        '''\n",
        "        return {\n",
        "            \"score\": {\n",
        "                'p': model_proba,\n",
        "                'id': sample['id'],\n",
        "                'model_name': sample['model_name'],\n",
        "                'reference_model_name': sample['reference_model_name'],\n",
        "                'styles': styles\n",
        "            }\n",
        "        }\n",
        "\n",
        "\n",
        "    def load_dataset(\n",
        "        self,\n",
        "        model: LLM,\n",
        "        max_len: int,\n",
        "        max_sample_per_dataset: int,\n",
        "        few_shot_count: int\n",
        "    ) -> Tuple[List[Dict], List[Dict]]:\n",
        "        self.logger.info(f'Ignoring few_shot_count for {self.name()}')\n",
        "        assert few_shot_count == 0\n",
        "        '''\n",
        "        n=len(model_outputs) -- число вопросов\n",
        "        m=len(reference_model_outputs) -- число моделей в пайплайне\n",
        "\n",
        "        model_outputs и reference_outputs[i] заменяется на их ответ из json-файла:\n",
        "        model_outputs[i] = {\n",
        "            'id': i\n",
        "            'instruction' : <instruction_i>\n",
        "            ...\n",
        "        }\n",
        "        reference_outputs = [\n",
        "            {\n",
        "                {\n",
        "                    'id' = i\n",
        "                    'instruction' : <instruction_i>\n",
        "                    ...\n",
        "                } for i in range(n)\n",
        "            } for j in range(m)\n",
        "        ]\n",
        "        '''\n",
        "        model_name = self.model_outputs['model_name']\n",
        "        model_outputs_path = self.model_outputs['path']\n",
        "        model_outputs = read_json(model_outputs_path)[:max_sample_per_dataset]\n",
        "        for i, o in enumerate(model_outputs):\n",
        "            o['id'] = i\n",
        "\n",
        "        samples = []\n",
        "        messages = []\n",
        "        for reference_outputs in self.references_outputs:\n",
        "            reference_model_name =  reference_outputs['model_name']\n",
        "            reference_outputs_path = reference_outputs['path']\n",
        "            reference_outputs = read_json(reference_outputs_path)[:max_sample_per_dataset]\n",
        "            assert len(reference_outputs) == len(model_outputs)\n",
        "            for i, o in enumerate(reference_outputs):\n",
        "                assert o['instruction'] == model_outputs[i]['instruction']\n",
        "                o['id'] = i\n",
        "\n",
        "            for i in range(len(model_outputs)): # по всем заданиям\n",
        "                sample_direct = self._create_sample(model_outputs[i], reference_outputs[i], model_name, reference_model_name)\n",
        "                samples.append({'sample': sample_direct})\n",
        "                messages.append({'messages': self._prepare_messages(sample_direct, model, max_len)})\n",
        "\n",
        "                sample_reverse = self._reverse_sample(sample_direct)\n",
        "                samples.append({'sample': sample_reverse})\n",
        "                messages.append({'messages': self._prepare_messages(sample_reverse, model, max_len)})\n",
        "\n",
        "        for m in messages:\n",
        "            m['tokens_of_interest'] = self.choices\n",
        "        '''\n",
        "        samples = [\n",
        "            {\n",
        "                'id': model_output['id'],\n",
        "                'model_name': model_name,\n",
        "                'reference_model_name': reference_model_name,\n",
        "                'instruction': model_output['instruction'],\n",
        "                'output_m': model_output['output'],\n",
        "                'output_M': reference_output['output'],\n",
        "                'model_label': 'm'\n",
        "            },\n",
        "            {\n",
        "                'id': model_output['id'],\n",
        "                'model_name': model_name,\n",
        "                'reference_model_name': reference_model_name,\n",
        "                'instruction': model_output['instruction'],\n",
        "                'output_m': reference_output['output'],\n",
        "                'output_M': model_output['output'],\n",
        "                'model_label': 'M'\n",
        "            } for i in range(n)\n",
        "        ]\n",
        "        messages = [\n",
        "            [\n",
        "                {'role': 'system', 'content': instruction_system},\n",
        "                {'role': 'user', 'content': user_content_m_M},\n",
        "                {'role': 'assistant', 'content': instruction_bot}\n",
        "                'tokens_of_interest': ['m', 'M']\n",
        "            ],\n",
        "            [\n",
        "                {'role': 'system', 'content': instruction_system},\n",
        "                {'role': 'user', 'content': user_content_M_m},\n",
        "                {'role': 'assistant', 'content': instruction_bot}\n",
        "                'tokens_of_interest': ['m', 'M']\n",
        "            ]\n",
        "            for i in range(n)\n",
        "        ]\n",
        "        '''\n",
        "        return messages, samples\n",
        "\n",
        "    def _create_sample(self, model_output, reference_output, model_name, reference_model_name):\n",
        "        sample = {\n",
        "            'id': model_output['id'],\n",
        "            'model_name': model_name,\n",
        "            'reference_model_name': reference_model_name,\n",
        "            'instruction': model_output['instruction'],\n",
        "            'output_m': model_output['output'],\n",
        "            'output_M': reference_output['output'],\n",
        "            'model_label': 'm'\n",
        "        }\n",
        "        return sample\n",
        "\n",
        "    def _reverse_sample(self, sample):\n",
        "        sample_reverse = copy.deepcopy(sample)\n",
        "        sample_reverse['model_label'] = 'M'\n",
        "        swap(sample_reverse, 'output_m', 'output_M')\n",
        "        return sample_reverse\n",
        "\n",
        "    def _prepare_messages(self, sample: Dict, model: LLM, max_len: int):\n",
        "        zero_shot_messages = self.create_messages(copy.deepcopy(sample), with_answer=False)\n",
        "        zero_shot_messages_len = model.count_tokens_for_prompt(model.apply_model_prompt(zero_shot_messages))\n",
        "        if zero_shot_messages_len >= max_len:\n",
        "            self.logger.warning(f'WARNING: sample zero-shot len {zero_shot_messages_len} greater then {max_len}. Will be truncated.')\n",
        "        return zero_shot_messages\n",
        "\n",
        "    def create_messages(self, sample: Dict, with_answer=False):\n",
        "        instruction_system = 'You are a helpful assistant, that ranks models by the quality of their answers.'\n",
        "        instruction_user = '''I want you to create a leaderboard of different of large language models. To do so, I will give you the instructions (prompts) given to the models, and the responses of two models. Please rank the models based on which responses would be preferred by humans. All inputs and outputs should be python dictionaries.\n",
        "\n",
        "The main language of the these models is **Russian** and you are required to evaluate not only the overall quality of the answers, but also their grammar and coherence.\n",
        "\n",
        "**Prompt**:\n",
        "{\n",
        "    \"instruction\": \"{instruction}\",\n",
        "}\n",
        "\n",
        "**Models outputs**:\n",
        "[\n",
        "    {\n",
        "        \"model\": \"m\",\n",
        "        \"answer\": \"\"\"{output_m}\"\"\"\n",
        "    },\n",
        "    {\n",
        "        \"model\": \"M\",\n",
        "        \"answer\": \"\"\"{output_M}\"\"\"\n",
        "    }\n",
        "]\n",
        "\n",
        "Now please rank the models by the quality of their answers, so that the model with rank 1 has the best output. Then return a list of the model names and ranks, i.e., produce the following output:\n",
        "[\n",
        "    {\"rank': 1, \"model_name\": <model-name-winner>},\n",
        "    {\"rank': 2, \"model_name\": <model-name-loser>}\n",
        "]\n",
        "\n",
        "Please provide the ranking that the majority of humans would give.'''\n",
        "        instruction_bot = '''[\n",
        "    {\"rank': 1, \"model_name\": \"'''\n",
        "        user_content = instruction_user.replace('{instruction}', sample['instruction']).replace('{output_m}', sample['output_m']).replace('{output_M}', sample['output_M'])\n",
        "        messages = [\n",
        "            {'role': 'system', 'content': instruction_system},\n",
        "            {'role': 'user', 'content': user_content},\n",
        "            {'role': 'assistant', 'content': instruction_bot}\n",
        "        ]\n",
        "        return messages\n"
      ]
    },
    {
      "cell_type": "code",
      "execution_count": 12,
      "metadata": {
        "colab": {
          "base_uri": "https://localhost:8080/"
        },
        "id": "CJ6nlKn_ABbM",
        "outputId": "c176cde4-b67a-4a2d-c391-dcd23bd191f1"
      },
      "outputs": [
        {
          "name": "stderr",
          "output_type": "stream",
          "text": [
            "INFO: 2025-05-24 15:35:34,628: llmtf.base.apivllmmodel: ATTENTION! Hosting vLLM server must have vllm 0.6.3+\n",
            "INFO:llmtf.base.apivllmmodel:ATTENTION! Hosting vLLM server must have vllm 0.6.3+\n"
          ]
        },
        {
          "data": {
            "text/plain": [
              "[{'model_name': 'llama3-70b',\n",
              "  'path': 'llm_as_a_judge_baselines/ru_arena-hard-v0.1/llama3-70b.json'},\n",
              " {'model_name': 'vikhr12b',\n",
              "  'path': 'llm_as_a_judge_baselines/ru_arena-hard-v0.1/vikhr12b.json'},\n",
              " {'model_name': 'gpt-4o-mini',\n",
              "  'path': 'llm_as_a_judge_baselines/ru_arena-hard-v0.1/gpt-4o-mini.json'},\n",
              " {'model_name': 'gigachat_max_26.20_uncen',\n",
              "  'path': 'llm_as_a_judge_baselines/ru_arena-hard-v0.1/gigachat_max_26.20_uncen.json'},\n",
              " {'model_name': 'tpro',\n",
              "  'path': 'llm_as_a_judge_baselines/ru_arena-hard-v0.1/tpro.json'},\n",
              " {'model_name': 'Qwen2.5-32B-Instruct',\n",
              "  'path': 'llm_as_a_judge_baselines/ru_arena-hard-v0.1/Qwen2.5-32B-Instruct.json'},\n",
              " {'model_name': 'yagpt5lite',\n",
              "  'path': 'llm_as_a_judge_baselines/ru_arena-hard-v0.1/yagpt5lite.json'},\n",
              " {'model_name': 'RuadaptQwen2.5-32B-Pro-Beta',\n",
              "  'path': 'llm_as_a_judge_baselines/ru_arena-hard-v0.1/RuadaptQwen2.5-32B-Pro-Beta.json'},\n",
              " {'model_name': 'tlite',\n",
              "  'path': 'llm_as_a_judge_baselines/ru_arena-hard-v0.1/tlite.json'},\n",
              " {'model_name': 'RuadaptQwen2.5-7B-Lite-Beta',\n",
              "  'path': 'llm_as_a_judge_baselines/ru_arena-hard-v0.1/RuadaptQwen2.5-7B-Lite-Beta.json'},\n",
              " {'model_name': 'gpt-4-1106-preview',\n",
              "  'path': 'llm_as_a_judge_baselines/ru_arena-hard-v0.1/gpt-4-1106-preview.json'}]"
            ]
          },
          "execution_count": 12,
          "metadata": {},
          "output_type": "execute_result"
        }
      ],
      "source": [
        "os.environ['OPENAI_API_KEY'] = '874c364705747e7ab314ceba89c2029c9a72ab2154664c470eb4ce18c2f0acb0'\n",
        "references = list(os.listdir('llm_as_a_judge_baselines/ru_arena-hard-v0.1'))\n",
        "references = [{'model_name': '.'.join(ref.split('.')[:-1]), 'path': os.path.join('llm_as_a_judge_baselines/ru_arena-hard-v0.1', ref)} for ref in references]\n",
        "\n",
        "api_base = 'http://89.169.128.106:6266'\n",
        "model = ApiVLLMModel(api_base)\n",
        "model.from_pretrained('qwen2.5-72b')\n",
        "\n",
        "model.generation_config.max_new_tokens = 1\n",
        "model.generation_config.repetition_penalty = 1.0\n",
        "model.generation_config.do_sample = False\n",
        "model.generation_config.temperature = 0.0\n",
        "model.generation_config\n",
        "model.num_procs = 50\n",
        "\n",
        "references"
      ]
    },
    {
      "cell_type": "code",
      "execution_count": 15,
      "metadata": {
        "colab": {
          "base_uri": "https://localhost:8080/"
        },
        "id": "qOoSnfLo7-7c",
        "outputId": "4952f895-6d8c-4626-e686-0b51b2b641a0"
      },
      "outputs": [
        {
          "data": {
            "text/plain": [
              "[{'model_name': 'gpt-4-1106-preview',\n",
              "  'path': 'llm_as_a_judge_baselines/ru_arena-hard-v0.1/gpt-4-1106-preview.json'},\n",
              " {'model_name': 'gigachat_max_26.20_uncen',\n",
              "  'path': 'llm_as_a_judge_baselines/ru_arena-hard-v0.1/gigachat_max_26.20_uncen.json'},\n",
              " {'model_name': 'Qwen2.5-32B-Instruct',\n",
              "  'path': 'llm_as_a_judge_baselines/ru_arena-hard-v0.1/Qwen2.5-32B-Instruct.json'},\n",
              " {'model_name': 'gpt-4o-mini',\n",
              "  'path': 'llm_as_a_judge_baselines/ru_arena-hard-v0.1/gpt-4o-mini.json'}]"
            ]
          },
          "execution_count": 15,
          "metadata": {},
          "output_type": "execute_result"
        }
      ],
      "source": [
        "references = [\n",
        "    {'model_name': 'gpt-4-1106-preview',\n",
        "  'path': 'llm_as_a_judge_baselines/ru_arena-hard-v0.1/gpt-4-1106-preview.json'},\n",
        "    {'model_name': 'gigachat_max_26.20_uncen',\n",
        "  'path': 'llm_as_a_judge_baselines/ru_arena-hard-v0.1/gigachat_max_26.20_uncen.json'},\n",
        "    {'model_name': 'Qwen2.5-32B-Instruct',\n",
        "  'path': 'llm_as_a_judge_baselines/ru_arena-hard-v0.1/Qwen2.5-32B-Instruct.json'},\n",
        "    {'model_name': 'gpt-4o-mini',\n",
        "  'path': 'llm_as_a_judge_baselines/ru_arena-hard-v0.1/gpt-4o-mini.json'},\n",
        "]\n",
        "references"
      ]
    },
    {
      "cell_type": "code",
      "execution_count": null,
      "metadata": {
        "colab": {
          "base_uri": "https://localhost:8080/"
        },
        "id": "grcS3iU5O3tb",
        "outputId": "871023c8-6ee8-46b1-8eac-739c97b582f5"
      },
      "outputs": [
        {
          "name": "stderr",
          "output_type": "stream",
          "text": [
            "INFO: 2025-05-23 23:08:36,092: llmtf.base.apivllmmodel: Updated generation_config.eos_token_id: None\n",
            "INFO:llmtf.base.apivllmmodel:Updated generation_config.eos_token_id: None\n",
            "INFO: 2025-05-23 23:08:36,094: llmtf.base.apivllmmodel: Updated generation_config.stop_strings: None\n",
            "INFO:llmtf.base.apivllmmodel:Updated generation_config.stop_strings: None\n",
            "INFO: 2025-05-23 23:08:36,102: llmtf.base.llm_as_judge: Ignoring few_shot_count for llm_as_judge\n",
            "INFO:llmtf.base.llm_as_judge:Ignoring few_shot_count for llm_as_judge\n",
            "INFO: 2025-05-23 23:08:37,414: llmtf.base.llm_as_judge: Loading Dataset: 1.31s\n",
            "INFO:llmtf.base.llm_as_judge:Loading Dataset: 1.31s\n",
            "100%|██████████| 16/16 [43:52<00:00, 164.55s/it]\n",
            "INFO: 2025-05-23 23:52:30,295: llmtf.base.llm_as_judge: Processing Dataset: 2632.87s\n",
            "INFO:llmtf.base.llm_as_judge:Processing Dataset: 2632.87s\n",
            "INFO: 2025-05-23 23:52:30,299: llmtf.base.llm_as_judge: Results for llm_as_judge:\n",
            "INFO:llmtf.base.llm_as_judge:Results for llm_as_judge:\n"
          ]
        },
        {
          "name": "stdout",
          "output_type": "stream",
          "text": [
            "Файл previous_battles.json не найден. Создаём новый.\n",
            "Начало регрессии\n"
          ]
        },
        {
          "name": "stderr",
          "output_type": "stream",
          "text": [
            "INFO: 2025-05-23 23:52:31,597: llmtf.base.llm_as_judge: {'score': np.float64(0.7841589807755948)}\n",
            "INFO:llmtf.base.llm_as_judge:{'score': np.float64(0.7841589807755948)}\n"
          ]
        },
        {
          "name": "stdout",
          "output_type": "stream",
          "text": [
            "----------------------------------------\n",
            "RESULTS:\n",
            "0.31066379747036155 - gpt-4-1106-preview\n",
            "-0.25006043140377315 - Qwen2.5-32B-Instruct\n",
            "0.01915397825375859 - gigachat_max_26.20_uncen\n",
            "-0.07975734432034574 - gpt-4o-mini\n",
            "----------------------------------------\n"
          ]
        }
      ],
      "source": [
        "task_gpt_1106 = LLMAsJudge(\n",
        "    model_outputs={\n",
        "        'model_name': 'gpt-4-1106-preview',\n",
        "        'path': 'llm_as_a_judge_baselines/ru_arena-hard-v0.1/gpt-4-1106-preview.json'\n",
        "      },\n",
        "    references_outputs=references)\n",
        "\n",
        "evaluator = Evaluator()\n",
        "evaluator.evaluate_dataset(\n",
        "    task=task_gpt_1106,\n",
        "    model=model,\n",
        "    output_dir='gpt_1106_output',\n",
        "    max_len=4000,\n",
        "    few_shot_count=0,\n",
        "    generation_config=None,\n",
        "    batch_size=256,\n",
        "    max_sample_per_dataset=10000000000\n",
        ")"
      ]
    },
    {
      "cell_type": "code",
      "execution_count": 22,
      "metadata": {
        "colab": {
          "base_uri": "https://localhost:8080/"
        },
        "id": "9uNnUTjmJ_mc",
        "outputId": "63dd1c19-ac90-4218-beca-1591a786a156"
      },
      "outputs": [
        {
          "name": "stderr",
          "output_type": "stream",
          "text": [
            "INFO: 2025-05-24 08:22:32,602: llmtf.base.apivllmmodel: Updated generation_config.eos_token_id: None\n",
            "INFO:llmtf.base.apivllmmodel:Updated generation_config.eos_token_id: None\n",
            "INFO: 2025-05-24 08:22:32,604: llmtf.base.apivllmmodel: Updated generation_config.stop_strings: None\n",
            "INFO:llmtf.base.apivllmmodel:Updated generation_config.stop_strings: None\n",
            "INFO: 2025-05-24 08:22:32,606: llmtf.base.llm_as_judge: Ignoring few_shot_count for llm_as_judge\n",
            "INFO:llmtf.base.llm_as_judge:Ignoring few_shot_count for llm_as_judge\n",
            "INFO: 2025-05-24 08:22:32,855: llmtf.base.llm_as_judge: Loading Dataset: 0.25s\n",
            "INFO:llmtf.base.llm_as_judge:Loading Dataset: 0.25s\n",
            "100%|██████████| 16/16 [40:07<00:00, 150.49s/it]\n",
            "INFO: 2025-05-24 09:02:40,718: llmtf.base.llm_as_judge: Processing Dataset: 2407.86s\n",
            "INFO:llmtf.base.llm_as_judge:Processing Dataset: 2407.86s\n",
            "INFO: 2025-05-24 09:02:40,721: llmtf.base.llm_as_judge: Results for llm_as_judge:\n",
            "INFO:llmtf.base.llm_as_judge:Results for llm_as_judge:\n"
          ]
        },
        {
          "name": "stdout",
          "output_type": "stream",
          "text": [
            "Данные перезаписаны\n",
            "Начало регрессии\n"
          ]
        },
        {
          "name": "stderr",
          "output_type": "stream",
          "text": [
            "INFO: 2025-05-24 09:02:42,897: llmtf.base.llm_as_judge: {'score': np.float64(0.6365625332157553)}\n",
            "INFO:llmtf.base.llm_as_judge:{'score': np.float64(0.6365625332157553)}\n"
          ]
        },
        {
          "name": "stdout",
          "output_type": "stream",
          "text": [
            "----------------------------------------\n",
            "RESULTS:\n",
            "0.10513868316459676 - gigachat_max_26.20_uncen\n",
            "0.15926906465361526 - gpt-4-1106-preview\n",
            "-0.21476346798972956 - Qwen2.5-32B-Instruct\n",
            "-0.04964427982847688 - gpt-4o-mini\n",
            "----------------------------------------\n"
          ]
        }
      ],
      "source": [
        "task_gigachat = LLMAsJudge(\n",
        "    model_outputs={\n",
        "        'model_name': 'gigachat_max_26.20_uncen',\n",
        "        'path': 'llm_as_a_judge_baselines/ru_arena-hard-v0.1/gigachat_max_26.20_uncen.json'\n",
        "      },\n",
        "    references_outputs=references)\n",
        "\n",
        "evaluator = Evaluator()\n",
        "evaluator.evaluate_dataset(\n",
        "    task=task_gigachat,\n",
        "    model=model,\n",
        "    output_dir='gigachat_output',\n",
        "    max_len=4000,\n",
        "    few_shot_count=0,\n",
        "    generation_config=None,\n",
        "    batch_size=256,\n",
        "    max_sample_per_dataset=10000000000\n",
        ")"
      ]
    },
    {
      "cell_type": "code",
      "execution_count": 23,
      "metadata": {
        "colab": {
          "base_uri": "https://localhost:8080/"
        },
        "id": "E0tIyBhl7EGa",
        "outputId": "c0cc6997-a530-4124-aa3b-1da2c4af45df"
      },
      "outputs": [
        {
          "name": "stderr",
          "output_type": "stream",
          "text": [
            "INFO: 2025-05-24 09:06:37,517: llmtf.base.apivllmmodel: Updated generation_config.eos_token_id: None\n",
            "INFO:llmtf.base.apivllmmodel:Updated generation_config.eos_token_id: None\n",
            "INFO: 2025-05-24 09:06:37,519: llmtf.base.apivllmmodel: Updated generation_config.stop_strings: None\n",
            "INFO:llmtf.base.apivllmmodel:Updated generation_config.stop_strings: None\n",
            "INFO: 2025-05-24 09:06:37,524: llmtf.base.llm_as_judge: Ignoring few_shot_count for llm_as_judge\n",
            "INFO:llmtf.base.llm_as_judge:Ignoring few_shot_count for llm_as_judge\n",
            "INFO: 2025-05-24 09:06:37,674: llmtf.base.llm_as_judge: Loading Dataset: 0.15s\n",
            "INFO:llmtf.base.llm_as_judge:Loading Dataset: 0.15s\n",
            "100%|██████████| 16/16 [39:50<00:00, 149.43s/it]\n",
            "INFO: 2025-05-24 09:46:28,614: llmtf.base.llm_as_judge: Processing Dataset: 2390.94s\n",
            "INFO:llmtf.base.llm_as_judge:Processing Dataset: 2390.94s\n",
            "INFO: 2025-05-24 09:46:28,615: llmtf.base.llm_as_judge: Results for llm_as_judge:\n",
            "INFO:llmtf.base.llm_as_judge:Results for llm_as_judge:\n"
          ]
        },
        {
          "name": "stdout",
          "output_type": "stream",
          "text": [
            "Данные перезаписаны\n",
            "Начало регрессии\n"
          ]
        },
        {
          "name": "stderr",
          "output_type": "stream",
          "text": [
            "INFO: 2025-05-24 09:46:31,702: llmtf.base.llm_as_judge: {'score': np.float64(0.42548573234306136)}\n",
            "INFO:llmtf.base.llm_as_judge:{'score': np.float64(0.42548573234306136)}\n"
          ]
        },
        {
          "name": "stdout",
          "output_type": "stream",
          "text": [
            "----------------------------------------\n",
            "RESULTS:\n",
            "-0.14321774615131938 - Qwen2.5-32B-Instruct\n",
            "0.0569009923213684 - gigachat_max_26.20_uncen\n",
            "0.1038299580233437 - gpt-4-1106-preview\n",
            "-0.017513204193389045 - gpt-4o-mini\n",
            "----------------------------------------\n"
          ]
        }
      ],
      "source": [
        "task_qwen = LLMAsJudge(\n",
        "    model_outputs={\n",
        "        'model_name': 'Qwen2.5-32B-Instruct',\n",
        "        'path': 'llm_as_a_judge_baselines/ru_arena-hard-v0.1/Qwen2.5-32B-Instruct.json'\n",
        "      },\n",
        "    references_outputs=references)\n",
        "\n",
        "evaluator = Evaluator()\n",
        "evaluator.evaluate_dataset(\n",
        "    task=task_qwen,\n",
        "    model=model,\n",
        "    output_dir='qwen_output',\n",
        "    max_len=4000,\n",
        "    few_shot_count=0,\n",
        "    generation_config=None,\n",
        "    batch_size=256,\n",
        "    max_sample_per_dataset=10000000000\n",
        ")"
      ]
    },
    {
      "cell_type": "code",
      "execution_count": 24,
      "metadata": {
        "colab": {
          "base_uri": "https://localhost:8080/"
        },
        "id": "B_FZ1Ek0B1Pb",
        "outputId": "637ec1e6-548d-4c80-b7f7-5ee45ee6fb5f"
      },
      "outputs": [
        {
          "name": "stderr",
          "output_type": "stream",
          "text": [
            "INFO: 2025-05-24 09:51:45,497: llmtf.base.apivllmmodel: Updated generation_config.eos_token_id: None\n",
            "INFO:llmtf.base.apivllmmodel:Updated generation_config.eos_token_id: None\n",
            "INFO: 2025-05-24 09:51:45,500: llmtf.base.apivllmmodel: Updated generation_config.stop_strings: None\n",
            "INFO:llmtf.base.apivllmmodel:Updated generation_config.stop_strings: None\n",
            "INFO: 2025-05-24 09:51:45,502: llmtf.base.llm_as_judge: Ignoring few_shot_count for llm_as_judge\n",
            "INFO:llmtf.base.llm_as_judge:Ignoring few_shot_count for llm_as_judge\n",
            "INFO: 2025-05-24 09:51:45,637: llmtf.base.llm_as_judge: Loading Dataset: 0.13s\n",
            "INFO:llmtf.base.llm_as_judge:Loading Dataset: 0.13s\n",
            "100%|██████████| 16/16 [38:35<00:00, 144.70s/it]\n",
            "INFO: 2025-05-24 10:30:20,892: llmtf.base.llm_as_judge: Processing Dataset: 2315.25s\n",
            "INFO:llmtf.base.llm_as_judge:Processing Dataset: 2315.25s\n",
            "INFO: 2025-05-24 10:30:20,893: llmtf.base.llm_as_judge: Results for llm_as_judge:\n",
            "INFO:llmtf.base.llm_as_judge:Results for llm_as_judge:\n"
          ]
        },
        {
          "name": "stdout",
          "output_type": "stream",
          "text": [
            "Данные перезаписаны\n",
            "Начало регрессии\n"
          ]
        },
        {
          "name": "stderr",
          "output_type": "stream",
          "text": [
            "INFO: 2025-05-24 10:30:25,373: llmtf.base.llm_as_judge: {'score': np.float64(0.3782083095860127)}\n",
            "INFO:llmtf.base.llm_as_judge:{'score': np.float64(0.3782083095860127)}\n"
          ]
        },
        {
          "name": "stdout",
          "output_type": "stream",
          "text": [
            "----------------------------------------\n",
            "RESULTS:\n",
            "-0.16590216787350204 - Qwen2.5-32B-Instruct\n",
            "0.04160411149820332 - gigachat_max_26.20_uncen\n",
            "0.09118804883005877 - gpt-4-1106-preview\n",
            "0.033110007545244236 - gpt-4o-mini\n",
            "----------------------------------------\n"
          ]
        }
      ],
      "source": [
        "task_gpt_mini = LLMAsJudge(\n",
        "    model_outputs={\n",
        "        'model_name': 'gpt-4o-mini',\n",
        "        'path': 'llm_as_a_judge_baselines/ru_arena-hard-v0.1/gpt-4o-mini.json'\n",
        "      },\n",
        "    references_outputs=references)\n",
        "\n",
        "evaluator = Evaluator()\n",
        "evaluator.evaluate_dataset(\n",
        "    task=task_gpt_mini,\n",
        "    model=model,\n",
        "    output_dir='gpt_mini_output',\n",
        "    max_len=4000,\n",
        "    few_shot_count=0,\n",
        "    generation_config=None,\n",
        "    batch_size=256,\n",
        "    max_sample_per_dataset=10000000000\n",
        ")"
      ]
    },
    {
      "cell_type": "code",
      "execution_count": 26,
      "metadata": {
        "colab": {
          "base_uri": "https://localhost:8080/"
        },
        "id": "lSNpuyEyEdvJ",
        "outputId": "3f62ea46-2851-4a85-9887-79e16144073b"
      },
      "outputs": [
        {
          "name": "stderr",
          "output_type": "stream",
          "text": [
            "INFO: 2025-05-24 10:40:36,925: llmtf.base.apivllmmodel: Updated generation_config.eos_token_id: None\n",
            "INFO:llmtf.base.apivllmmodel:Updated generation_config.eos_token_id: None\n",
            "INFO: 2025-05-24 10:40:36,927: llmtf.base.apivllmmodel: Updated generation_config.stop_strings: None\n",
            "INFO:llmtf.base.apivllmmodel:Updated generation_config.stop_strings: None\n",
            "INFO: 2025-05-24 10:40:36,929: llmtf.base.llm_as_judge: Ignoring few_shot_count for llm_as_judge\n",
            "INFO:llmtf.base.llm_as_judge:Ignoring few_shot_count for llm_as_judge\n",
            "INFO: 2025-05-24 10:40:37,080: llmtf.base.llm_as_judge: Loading Dataset: 0.15s\n",
            "INFO:llmtf.base.llm_as_judge:Loading Dataset: 0.15s\n",
            "100%|██████████| 16/16 [41:21<00:00, 155.09s/it]\n",
            "INFO: 2025-05-24 11:21:58,558: llmtf.base.llm_as_judge: Processing Dataset: 2481.47s\n",
            "INFO:llmtf.base.llm_as_judge:Processing Dataset: 2481.47s\n",
            "INFO: 2025-05-24 11:21:58,562: llmtf.base.llm_as_judge: Results for llm_as_judge:\n",
            "INFO:llmtf.base.llm_as_judge:Results for llm_as_judge:\n"
          ]
        },
        {
          "name": "stdout",
          "output_type": "stream",
          "text": [
            "Данные перезаписаны\n",
            "Начало регрессии\n"
          ]
        },
        {
          "name": "stderr",
          "output_type": "stream",
          "text": [
            "INFO: 2025-05-24 11:22:04,693: llmtf.base.llm_as_judge: {'score': np.float64(0.3381370433967317)}\n",
            "INFO:llmtf.base.llm_as_judge:{'score': np.float64(0.3381370433967317)}\n"
          ]
        },
        {
          "name": "stdout",
          "output_type": "stream",
          "text": [
            "----------------------------------------\n",
            "RESULTS:\n",
            "-0.1571130478797735 - Qwen2.5-32B-Instruct\n",
            "0.034230345763147825 - gigachat_max_26.20_uncen\n",
            "0.0930590202434048 - gpt-4-1106-preview\n",
            "0.018299546455687887 - gpt-4o-mini\n",
            "0.011524135417529514 - llama3-70b\n",
            "----------------------------------------\n"
          ]
        }
      ],
      "source": [
        "task_llama3_70b = LLMAsJudge(\n",
        "    model_outputs={\n",
        "        'model_name': 'llama3-70b',\n",
        "        'path': 'llm_as_a_judge_baselines/ru_arena-hard-v0.1/llama3-70b.json'\n",
        "      },\n",
        "    references_outputs=references)\n",
        "\n",
        "evaluator = Evaluator()\n",
        "evaluator.evaluate_dataset(\n",
        "    task=task_llama3_70b,\n",
        "    model=model,\n",
        "    output_dir='llama3-70b',\n",
        "    max_len=4000,\n",
        "    few_shot_count=0,\n",
        "    generation_config=None,\n",
        "    batch_size=256,\n",
        "    max_sample_per_dataset=10000000000\n",
        ")"
      ]
    },
    {
      "cell_type": "code",
      "execution_count": 25,
      "metadata": {
        "colab": {
          "base_uri": "https://localhost:8080/"
        },
        "id": "lwEyTplX39Mm",
        "outputId": "f5f156c6-5cc7-41fc-bfac-5e49661f080a"
      },
      "outputs": [
        {
          "name": "stdout",
          "output_type": "stream",
          "text": [
            "gigachat_max_26.20_uncen.json\t  RuadaptQwen2.5-7B-Lite-Beta.json\n",
            "gpt-4-1106-preview.json\t\t  tlite.json\n",
            "gpt-4o-mini.json\t\t  tpro.json\n",
            "llama3-70b.json\t\t\t  vikhr12b.json\n",
            "Qwen2.5-32B-Instruct.json\t  yagpt5lite.json\n",
            "RuadaptQwen2.5-32B-Pro-Beta.json\n"
          ]
        }
      ],
      "source": [
        "!ls llm_as_a_judge_baselines/ru_arena-hard-v0.1"
      ]
    },
    {
      "cell_type": "code",
      "execution_count": 27,
      "metadata": {
        "colab": {
          "base_uri": "https://localhost:8080/"
        },
        "id": "l5NFFU4t84bJ",
        "outputId": "2d4ad2fb-b6ab-48cc-d6c8-9ecc26d7e31e"
      },
      "outputs": [
        {
          "name": "stderr",
          "output_type": "stream",
          "text": [
            "INFO: 2025-05-24 11:24:13,515: llmtf.base.apivllmmodel: Updated generation_config.eos_token_id: None\n",
            "INFO:llmtf.base.apivllmmodel:Updated generation_config.eos_token_id: None\n",
            "INFO: 2025-05-24 11:24:13,518: llmtf.base.apivllmmodel: Updated generation_config.stop_strings: None\n",
            "INFO:llmtf.base.apivllmmodel:Updated generation_config.stop_strings: None\n",
            "INFO: 2025-05-24 11:24:13,520: llmtf.base.llm_as_judge: Ignoring few_shot_count for llm_as_judge\n",
            "INFO:llmtf.base.llm_as_judge:Ignoring few_shot_count for llm_as_judge\n",
            "INFO: 2025-05-24 11:24:13,670: llmtf.base.llm_as_judge: Loading Dataset: 0.15s\n",
            "INFO:llmtf.base.llm_as_judge:Loading Dataset: 0.15s\n",
            "100%|██████████| 16/16 [39:39<00:00, 148.70s/it]\n",
            "INFO: 2025-05-24 12:03:52,917: llmtf.base.llm_as_judge: Processing Dataset: 2379.24s\n",
            "INFO:llmtf.base.llm_as_judge:Processing Dataset: 2379.24s\n",
            "INFO: 2025-05-24 12:03:52,919: llmtf.base.llm_as_judge: Results for llm_as_judge:\n",
            "INFO:llmtf.base.llm_as_judge:Results for llm_as_judge:\n"
          ]
        },
        {
          "name": "stdout",
          "output_type": "stream",
          "text": [
            "Данные перезаписаны\n",
            "Начало регрессии\n"
          ]
        },
        {
          "name": "stderr",
          "output_type": "stream",
          "text": [
            "INFO: 2025-05-24 12:04:01,071: llmtf.base.llm_as_judge: {'score': np.float64(0.3124573143004461)}\n",
            "INFO:llmtf.base.llm_as_judge:{'score': np.float64(0.3124573143004461)}\n"
          ]
        },
        {
          "name": "stdout",
          "output_type": "stream",
          "text": [
            "----------------------------------------\n",
            "RESULTS:\n",
            "-0.20550524938502074 - Qwen2.5-32B-Instruct\n",
            "0.17372636360749077 - RuadaptQwen2.5-7B-Lite-Beta\n",
            "0.005886682046937743 - gigachat_max_26.20_uncen\n",
            "0.04687752023773013 - gpt-4-1106-preview\n",
            "-0.03154720574315417 - gpt-4o-mini\n",
            "0.010561889236017504 - llama3-70b\n",
            "----------------------------------------\n"
          ]
        }
      ],
      "source": [
        "task_RuadaptQwen_7B = LLMAsJudge(\n",
        "    model_outputs={\n",
        "        'model_name': 'RuadaptQwen2.5-7B-Lite-Beta',\n",
        "        'path': 'llm_as_a_judge_baselines/ru_arena-hard-v0.1/RuadaptQwen2.5-7B-Lite-Beta.json'\n",
        "      },\n",
        "    references_outputs=references)\n",
        "\n",
        "evaluator = Evaluator()\n",
        "evaluator.evaluate_dataset(\n",
        "    task=task_RuadaptQwen_7B,\n",
        "    model=model,\n",
        "    output_dir='task_RuadaptQwen_7B',\n",
        "    max_len=4000,\n",
        "    few_shot_count=0,\n",
        "    generation_config=None,\n",
        "    batch_size=256,\n",
        "    max_sample_per_dataset=10000000000\n",
        ")"
      ]
    },
    {
      "cell_type": "code",
      "execution_count": 28,
      "metadata": {
        "colab": {
          "base_uri": "https://localhost:8080/"
        },
        "id": "NIes72m_EnOw",
        "outputId": "de6b7fbb-a5f6-4c5b-bc45-2fab36e70a68"
      },
      "outputs": [
        {
          "name": "stderr",
          "output_type": "stream",
          "text": [
            "INFO: 2025-05-24 12:32:31,729: llmtf.base.apivllmmodel: Updated generation_config.eos_token_id: None\n",
            "INFO:llmtf.base.apivllmmodel:Updated generation_config.eos_token_id: None\n",
            "INFO: 2025-05-24 12:32:31,731: llmtf.base.apivllmmodel: Updated generation_config.stop_strings: None\n",
            "INFO:llmtf.base.apivllmmodel:Updated generation_config.stop_strings: None\n",
            "INFO: 2025-05-24 12:32:31,734: llmtf.base.llm_as_judge: Ignoring few_shot_count for llm_as_judge\n",
            "INFO:llmtf.base.llm_as_judge:Ignoring few_shot_count for llm_as_judge\n",
            "INFO: 2025-05-24 12:32:31,881: llmtf.base.llm_as_judge: Loading Dataset: 0.15s\n",
            "INFO:llmtf.base.llm_as_judge:Loading Dataset: 0.15s\n",
            "100%|██████████| 16/16 [40:14<00:00, 150.89s/it]\n",
            "INFO: 2025-05-24 13:12:46,093: llmtf.base.llm_as_judge: Processing Dataset: 2414.21s\n",
            "INFO:llmtf.base.llm_as_judge:Processing Dataset: 2414.21s\n",
            "INFO: 2025-05-24 13:12:46,095: llmtf.base.llm_as_judge: Results for llm_as_judge:\n",
            "INFO:llmtf.base.llm_as_judge:Results for llm_as_judge:\n"
          ]
        },
        {
          "name": "stdout",
          "output_type": "stream",
          "text": [
            "Данные перезаписаны\n",
            "Начало регрессии\n"
          ]
        },
        {
          "name": "stderr",
          "output_type": "stream",
          "text": [
            "INFO: 2025-05-24 13:12:55,079: llmtf.base.llm_as_judge: {'score': np.float64(0.2877607363280383)}\n",
            "INFO:llmtf.base.llm_as_judge:{'score': np.float64(0.2877607363280383)}\n"
          ]
        },
        {
          "name": "stdout",
          "output_type": "stream",
          "text": [
            "----------------------------------------\n",
            "RESULTS:\n",
            "-0.26105889854931097 - Qwen2.5-32B-Instruct\n",
            "0.3287569758051988 - RuadaptQwen2.5-32B-Pro-Beta\n",
            "0.11866372061482446 - RuadaptQwen2.5-7B-Lite-Beta\n",
            "-0.05548888852844742 - gigachat_max_26.20_uncen\n",
            "-0.0065732039589161345 - gpt-4-1106-preview\n",
            "-0.10278011574899457 - gpt-4o-mini\n",
            "-0.021519589634343906 - llama3-70b\n",
            "----------------------------------------\n"
          ]
        }
      ],
      "source": [
        "task_RuadaptQwen_32B = LLMAsJudge(\n",
        "    model_outputs={\n",
        "        'model_name': 'RuadaptQwen2.5-32B-Pro-Beta',\n",
        "        'path': 'llm_as_a_judge_baselines/ru_arena-hard-v0.1/RuadaptQwen2.5-32B-Pro-Beta.json'\n",
        "      },\n",
        "    references_outputs=references)\n",
        "\n",
        "evaluator = Evaluator()\n",
        "evaluator.evaluate_dataset(\n",
        "    task=task_RuadaptQwen_32B,\n",
        "    model=model,\n",
        "    output_dir='task_RuadaptQwen_32B',\n",
        "    max_len=4000,\n",
        "    few_shot_count=0,\n",
        "    generation_config=None,\n",
        "    batch_size=256,\n",
        "    max_sample_per_dataset=10000000000\n",
        ")"
      ]
    },
    {
      "cell_type": "code",
      "execution_count": 30,
      "metadata": {
        "colab": {
          "base_uri": "https://localhost:8080/"
        },
        "id": "rn0ILCJbXoHw",
        "outputId": "05775aaa-4a8a-4ad1-d5df-096270bdd3d3"
      },
      "outputs": [
        {
          "name": "stderr",
          "output_type": "stream",
          "text": [
            "INFO: 2025-05-24 13:12:55,910: llmtf.base.apivllmmodel: Updated generation_config.eos_token_id: None\n",
            "INFO:llmtf.base.apivllmmodel:Updated generation_config.eos_token_id: None\n",
            "INFO: 2025-05-24 13:12:55,913: llmtf.base.apivllmmodel: Updated generation_config.stop_strings: None\n",
            "INFO:llmtf.base.apivllmmodel:Updated generation_config.stop_strings: None\n",
            "INFO: 2025-05-24 13:12:55,917: llmtf.base.llm_as_judge: Ignoring few_shot_count for llm_as_judge\n",
            "INFO:llmtf.base.llm_as_judge:Ignoring few_shot_count for llm_as_judge\n",
            "INFO: 2025-05-24 13:12:56,070: llmtf.base.llm_as_judge: Loading Dataset: 0.15s\n",
            "INFO:llmtf.base.llm_as_judge:Loading Dataset: 0.15s\n",
            "100%|██████████| 16/16 [39:24<00:00, 147.78s/it]\n",
            "INFO: 2025-05-24 13:52:20,490: llmtf.base.llm_as_judge: Processing Dataset: 2364.42s\n",
            "INFO:llmtf.base.llm_as_judge:Processing Dataset: 2364.42s\n",
            "INFO: 2025-05-24 13:52:20,493: llmtf.base.llm_as_judge: Results for llm_as_judge:\n",
            "INFO:llmtf.base.llm_as_judge:Results for llm_as_judge:\n"
          ]
        },
        {
          "name": "stdout",
          "output_type": "stream",
          "text": [
            "Данные перезаписаны\n",
            "Начало регрессии\n"
          ]
        },
        {
          "name": "stderr",
          "output_type": "stream",
          "text": [
            "INFO: 2025-05-24 13:52:31,284: llmtf.base.llm_as_judge: {'score': np.float64(0.28600303833520624)}\n",
            "INFO:llmtf.base.llm_as_judge:{'score': np.float64(0.28600303833520624)}\n"
          ]
        },
        {
          "name": "stdout",
          "output_type": "stream",
          "text": [
            "----------------------------------------\n",
            "RESULTS:\n",
            "-0.2679928547455227 - Qwen2.5-32B-Instruct\n",
            "0.33493142205415477 - RuadaptQwen2.5-32B-Pro-Beta\n",
            "0.13085597143204708 - RuadaptQwen2.5-7B-Lite-Beta\n",
            "-0.0630029403563503 - gigachat_max_26.20_uncen\n",
            "-0.010033491416192475 - gpt-4-1106-preview\n",
            "-0.12069874846630867 - gpt-4o-mini\n",
            "0.003891986965553807 - llama3-70b\n",
            "-0.00795134546736978 - tlite\n",
            "----------------------------------------\n"
          ]
        }
      ],
      "source": [
        "task_tlite = LLMAsJudge(\n",
        "    model_outputs={\n",
        "        'model_name': 'tlite',\n",
        "        'path': 'llm_as_a_judge_baselines/ru_arena-hard-v0.1/tlite.json'\n",
        "      },\n",
        "    references_outputs=references)\n",
        "\n",
        "evaluator = Evaluator()\n",
        "evaluator.evaluate_dataset(\n",
        "    task=task_tlite,\n",
        "    model=model,\n",
        "    output_dir='task_tlite',\n",
        "    max_len=4000,\n",
        "    few_shot_count=0,\n",
        "    generation_config=None,\n",
        "    batch_size=256,\n",
        "    max_sample_per_dataset=10000000000\n",
        ")"
      ]
    },
    {
      "cell_type": "code",
      "execution_count": 32,
      "metadata": {
        "colab": {
          "base_uri": "https://localhost:8080/"
        },
        "id": "JfyQqVLcfM_X",
        "outputId": "8d041e6f-71f5-4212-ab27-2103646e59dd"
      },
      "outputs": [
        {
          "name": "stderr",
          "output_type": "stream",
          "text": [
            "INFO: 2025-05-24 14:06:53,450: llmtf.base.apivllmmodel: Updated generation_config.eos_token_id: None\n",
            "INFO:llmtf.base.apivllmmodel:Updated generation_config.eos_token_id: None\n",
            "INFO: 2025-05-24 14:06:53,453: llmtf.base.apivllmmodel: Updated generation_config.stop_strings: None\n",
            "INFO:llmtf.base.apivllmmodel:Updated generation_config.stop_strings: None\n",
            "INFO: 2025-05-24 14:06:53,456: llmtf.base.llm_as_judge: Ignoring few_shot_count for llm_as_judge\n",
            "INFO:llmtf.base.llm_as_judge:Ignoring few_shot_count for llm_as_judge\n",
            "INFO: 2025-05-24 14:06:53,602: llmtf.base.llm_as_judge: Loading Dataset: 0.15s\n",
            "INFO:llmtf.base.llm_as_judge:Loading Dataset: 0.15s\n",
            "100%|██████████| 16/16 [40:11<00:00, 150.74s/it]\n",
            "INFO: 2025-05-24 14:47:05,489: llmtf.base.llm_as_judge: Processing Dataset: 2411.88s\n",
            "INFO:llmtf.base.llm_as_judge:Processing Dataset: 2411.88s\n",
            "INFO: 2025-05-24 14:47:05,493: llmtf.base.llm_as_judge: Results for llm_as_judge:\n",
            "INFO:llmtf.base.llm_as_judge:Results for llm_as_judge:\n"
          ]
        },
        {
          "name": "stdout",
          "output_type": "stream",
          "text": [
            "Данные перезаписаны\n",
            "Начало регрессии\n"
          ]
        },
        {
          "name": "stderr",
          "output_type": "stream",
          "text": [
            "INFO: 2025-05-24 14:47:16,717: llmtf.base.llm_as_judge: {'score': np.float64(0.2647443082075124)}\n",
            "INFO:llmtf.base.llm_as_judge:{'score': np.float64(0.2647443082075124)}\n"
          ]
        },
        {
          "name": "stdout",
          "output_type": "stream",
          "text": [
            "----------------------------------------\n",
            "RESULTS:\n",
            "-0.3184040314211038 - Qwen2.5-32B-Instruct\n",
            "0.29910779567414325 - RuadaptQwen2.5-32B-Pro-Beta\n",
            "0.09205273652794731 - RuadaptQwen2.5-7B-Lite-Beta\n",
            "-0.10496920577485687 - gigachat_max_26.20_uncen\n",
            "-0.05928236718113471 - gpt-4-1106-preview\n",
            "-0.17007493794122797 - gpt-4o-mini\n",
            "-0.04174978702461096 - llama3-70b\n",
            "-0.050636876042776995 - tlite\n",
            "0.3539566731836415 - tpro\n",
            "----------------------------------------\n"
          ]
        }
      ],
      "source": [
        "task_tpro = LLMAsJudge(\n",
        "    model_outputs={\n",
        "        'model_name': 'tpro',\n",
        "        'path': 'llm_as_a_judge_baselines/ru_arena-hard-v0.1/tpro.json'\n",
        "      },\n",
        "    references_outputs=references)\n",
        "\n",
        "evaluator = Evaluator()\n",
        "evaluator.evaluate_dataset(\n",
        "    task=task_tpro,\n",
        "    model=model,\n",
        "    output_dir='task_tpro',\n",
        "    max_len=4000,\n",
        "    few_shot_count=0,\n",
        "    generation_config=None,\n",
        "    batch_size=256,\n",
        "    max_sample_per_dataset=10000000000\n",
        ")"
      ]
    },
    {
      "cell_type": "code",
      "execution_count": 33,
      "metadata": {
        "colab": {
          "base_uri": "https://localhost:8080/"
        },
        "id": "7M4lMEsxfXQD",
        "outputId": "1a9aa2f7-213e-4615-b199-472cf6a0b14e"
      },
      "outputs": [
        {
          "name": "stderr",
          "output_type": "stream",
          "text": [
            "INFO: 2025-05-24 14:49:09,085: llmtf.base.apivllmmodel: Updated generation_config.eos_token_id: None\n",
            "INFO:llmtf.base.apivllmmodel:Updated generation_config.eos_token_id: None\n",
            "INFO: 2025-05-24 14:49:09,087: llmtf.base.apivllmmodel: Updated generation_config.stop_strings: None\n",
            "INFO:llmtf.base.apivllmmodel:Updated generation_config.stop_strings: None\n",
            "INFO: 2025-05-24 14:49:09,090: llmtf.base.llm_as_judge: Ignoring few_shot_count for llm_as_judge\n",
            "INFO:llmtf.base.llm_as_judge:Ignoring few_shot_count for llm_as_judge\n",
            "INFO: 2025-05-24 14:49:09,251: llmtf.base.llm_as_judge: Loading Dataset: 0.16s\n",
            "INFO:llmtf.base.llm_as_judge:Loading Dataset: 0.16s\n",
            "100%|██████████| 16/16 [35:12<00:00, 132.04s/it]\n",
            "INFO: 2025-05-24 15:24:21,913: llmtf.base.llm_as_judge: Processing Dataset: 2112.66s\n",
            "INFO:llmtf.base.llm_as_judge:Processing Dataset: 2112.66s\n",
            "INFO: 2025-05-24 15:24:21,921: llmtf.base.llm_as_judge: Results for llm_as_judge:\n",
            "INFO:llmtf.base.llm_as_judge:Results for llm_as_judge:\n"
          ]
        },
        {
          "name": "stdout",
          "output_type": "stream",
          "text": [
            "Данные перезаписаны\n",
            "Начало регрессии\n"
          ]
        },
        {
          "name": "stderr",
          "output_type": "stream",
          "text": [
            "INFO: 2025-05-24 15:24:35,611: llmtf.base.llm_as_judge: {'score': np.float64(0.2686657045085505)}\n",
            "INFO:llmtf.base.llm_as_judge:{'score': np.float64(0.2686657045085505)}\n"
          ]
        },
        {
          "name": "stdout",
          "output_type": "stream",
          "text": [
            "----------------------------------------\n",
            "RESULTS:\n",
            "-0.306513559385433 - Qwen2.5-32B-Instruct\n",
            "0.32704460659277046 - RuadaptQwen2.5-32B-Pro-Beta\n",
            "0.12287206698704978 - RuadaptQwen2.5-7B-Lite-Beta\n",
            "-0.09577402850845805 - gigachat_max_26.20_uncen\n",
            "-0.05026551748038653 - gpt-4-1106-preview\n",
            "-0.15685400936369923 - gpt-4o-mini\n",
            "-0.008396245311475018 - llama3-70b\n",
            "-0.019982712668874456 - tlite\n",
            "0.38243524661521994 - tpro\n",
            "-0.19456584747670025 - vikhr12b\n",
            "----------------------------------------\n"
          ]
        }
      ],
      "source": [
        "task_vikhr12b = LLMAsJudge(\n",
        "    model_outputs={\n",
        "        'model_name': 'vikhr12b',\n",
        "        'path': 'llm_as_a_judge_baselines/ru_arena-hard-v0.1/vikhr12b.json'\n",
        "      },\n",
        "    references_outputs=references)\n",
        "\n",
        "evaluator = Evaluator()\n",
        "evaluator.evaluate_dataset(\n",
        "    task=task_vikhr12b,\n",
        "    model=model,\n",
        "    output_dir='task_vikhr12b',\n",
        "    max_len=4000,\n",
        "    few_shot_count=0,\n",
        "    generation_config=None,\n",
        "    batch_size=256,\n",
        "    max_sample_per_dataset=10000000000\n",
        ")"
      ]
    },
    {
      "cell_type": "code",
      "execution_count": 17,
      "metadata": {
        "colab": {
          "base_uri": "https://localhost:8080/"
        },
        "id": "dSc1uPodflrh",
        "outputId": "98497d9c-07e0-4e3b-c1af-67f7a3e16b9d"
      },
      "outputs": [
        {
          "name": "stderr",
          "output_type": "stream",
          "text": [
            "INFO: 2025-05-24 15:40:03,912: llmtf.base.apivllmmodel: Updated generation_config.eos_token_id: None\n",
            "INFO:llmtf.base.apivllmmodel:Updated generation_config.eos_token_id: None\n",
            "INFO: 2025-05-24 15:40:03,914: llmtf.base.apivllmmodel: Updated generation_config.stop_strings: None\n",
            "INFO:llmtf.base.apivllmmodel:Updated generation_config.stop_strings: None\n",
            "INFO: 2025-05-24 15:40:03,917: llmtf.base.llm_as_judge: Ignoring few_shot_count for llm_as_judge\n",
            "INFO:llmtf.base.llm_as_judge:Ignoring few_shot_count for llm_as_judge\n",
            "INFO: 2025-05-24 15:40:04,133: llmtf.base.llm_as_judge: Loading Dataset: 0.22s\n",
            "INFO:llmtf.base.llm_as_judge:Loading Dataset: 0.22s\n",
            "100%|██████████| 16/16 [35:45<00:00, 134.11s/it]\n",
            "INFO: 2025-05-24 16:15:49,833: llmtf.base.llm_as_judge: Processing Dataset: 2145.70s\n",
            "INFO:llmtf.base.llm_as_judge:Processing Dataset: 2145.70s\n",
            "INFO: 2025-05-24 16:15:49,835: llmtf.base.llm_as_judge: Results for llm_as_judge:\n",
            "INFO:llmtf.base.llm_as_judge:Results for llm_as_judge:\n"
          ]
        },
        {
          "name": "stdout",
          "output_type": "stream",
          "text": [
            "Данные перезаписаны\n",
            "Начало регрессии\n"
          ]
        },
        {
          "name": "stderr",
          "output_type": "stream",
          "text": [
            "INFO: 2025-05-24 16:16:04,015: llmtf.base.llm_as_judge: {'score': np.float64(0.3016033754825107)}\n",
            "INFO:llmtf.base.llm_as_judge:{'score': np.float64(0.3016033754825107)}\n"
          ]
        },
        {
          "name": "stdout",
          "output_type": "stream",
          "text": [
            "----------------------------------------\n",
            "RESULTS:\n",
            "-0.23383102055827582 - Qwen2.5-32B-Instruct\n",
            "0.35359538645241256 - RuadaptQwen2.5-32B-Pro-Beta\n",
            "0.14773301222792512 - RuadaptQwen2.5-7B-Lite-Beta\n",
            "-0.0181956138630955 - gigachat_max_26.20_uncen\n",
            "0.02130797857957193 - gpt-4-1106-preview\n",
            "-0.07893573950763996 - gpt-4o-mini\n",
            "0.015748322193837462 - llama3-70b\n",
            "0.003470185336141974 - tlite\n",
            "0.4095182041745977 - tpro\n",
            "-0.17288707647678586 - vikhr12b\n",
            "-0.4475236385586701 - yagpt5lite\n",
            "----------------------------------------\n",
            "----------------------------------------\n",
            "RESULTS:\n",
            "Qwen2.5-32B-Instruct             | -0.23383102055827582\n",
            "RuadaptQwen2.5-32B-Pro-Beta      | 0.35359538645241256\n",
            "RuadaptQwen2.5-7B-Lite-Beta      | 0.14773301222792512\n",
            "gigachat_max_26.20_uncen         | -0.0181956138630955\n",
            "gpt-4-1106-preview               | 0.02130797857957193\n",
            "gpt-4o-mini                      | -0.07893573950763996\n",
            "llama3-70b                       | 0.015748322193837462\n",
            "tlite                            | 0.003470185336141974\n",
            "tpro                             | 0.4095182041745977\n",
            "vikhr12b                         | -0.17288707647678586\n",
            "yagpt5lite                       | -0.4475236385586701\n",
            "----------------------------------------\n",
            "RATINGS:\n",
            "[\n",
            "  -0.23383102055827582,\n",
            "  0.35359538645241256,\n",
            "  0.14773301222792512,\n",
            "  -0.0181956138630955,\n",
            "  0.02130797857957193,\n",
            "  -0.07893573950763996,\n",
            "  0.015748322193837462,\n",
            "  0.003470185336141974,\n",
            "  0.4095182041745977,\n",
            "  -0.17288707647678586,\n",
            "  -0.4475236385586701,\n",
            "]\n"
          ]
        }
      ],
      "source": [
        "task_yagpt5lite = LLMAsJudge(\n",
        "    model_outputs={\n",
        "        'model_name': 'yagpt5lite',\n",
        "        'path': 'llm_as_a_judge_baselines/ru_arena-hard-v0.1/yagpt5lite.json'\n",
        "      },\n",
        "    references_outputs=references)\n",
        "\n",
        "evaluator = Evaluator()\n",
        "evaluator.evaluate_dataset(\n",
        "    task=task_yagpt5lite,\n",
        "    model=model,\n",
        "    output_dir='task_yagpt5lite',\n",
        "    max_len=4000,\n",
        "    few_shot_count=0,\n",
        "    generation_config=None,\n",
        "    batch_size=256,\n",
        "    max_sample_per_dataset=10000000000\n",
        ")"
      ]
    },
    {
      "cell_type": "code",
      "execution_count": 27,
      "metadata": {
        "id": "qKnKM_oeHPFK"
      },
      "outputs": [],
      "source": [
        "final_ratings = np.array([\n",
        "    -0.23383102055827582,\n",
        "    0.35359538645241256,\n",
        "    0.14773301222792512,\n",
        "    -0.0181956138630955,\n",
        "    0.02130797857957193,\n",
        "    -0.07893573950763996,\n",
        "    0.015748322193837462,\n",
        "    0.003470185336141974,\n",
        "    0.4095182041745977,\n",
        "    -0.17288707647678586,\n",
        "    -0.4475236385586701,\n",
        "])\n",
        "models = [\n",
        "    'Qwen2.5-32B-Instruct',\n",
        "    'RuadaptQwen2.5-32B-Pro-Beta',\n",
        "    'RuadaptQwen2.5-7B-Lite-Beta',\n",
        "    'gigachat_max_26.20_uncen',\n",
        "    'gpt-4-1106-preview',\n",
        "    'gpt-4o-mini',\n",
        "    'llama3-70b',\n",
        "    'tlite',\n",
        "    'tpro',\n",
        "    'vikhr12b',\n",
        "    'yagpt5lite',\n",
        "]"
      ]
    },
    {
      "cell_type": "code",
      "execution_count": 28,
      "metadata": {
        "id": "fRrL-nV3ILdU"
      },
      "outputs": [],
      "source": [
        "def scale_and_offset(\n",
        "    ratings,\n",
        "    models,\n",
        "    baseline_model=None,\n",
        "    scale=400,\n",
        "    init_rating=1000,\n",
        "    baseline_rating=1114,\n",
        "):\n",
        "    \"\"\"convert ratings from the natural scale to the Elo rating scale with an anchored baseline\"\"\"\n",
        "    scaled_ratings = (ratings * scale) + init_rating\n",
        "    if baseline_model and baseline_model in models:\n",
        "        baseline_idx = models.index(baseline_model)\n",
        "        scaled_ratings += baseline_rating - scaled_ratings[..., [baseline_idx]]\n",
        "    return scaled_ratings"
      ]
    },
    {
      "cell_type": "code",
      "execution_count": 43,
      "metadata": {
        "colab": {
          "base_uri": "https://localhost:8080/"
        },
        "id": "LL7weoCnLnjw",
        "outputId": "84c2da74-e072-41da-8da1-64d2f9e24f70"
      },
      "outputs": [
        {
          "data": {
            "text/plain": [
              "array([-0.23383102,  0.35359539,  0.14773301, -0.01819561,  0.02130798,\n",
              "       -0.07893574,  0.01574832,  0.00347019,  0.4095182 , -0.17288708,\n",
              "       -0.44752364])"
            ]
          },
          "execution_count": 43,
          "metadata": {},
          "output_type": "execute_result"
        }
      ],
      "source": [
        "final_ratings"
      ]
    },
    {
      "cell_type": "code",
      "execution_count": 42,
      "metadata": {
        "colab": {
          "base_uri": "https://localhost:8080/"
        },
        "id": "bOWwF6EFIdqZ",
        "outputId": "d9e06f8a-f284-44d4-e6d0-7f7163910a60"
      },
      "outputs": [
        {
          "data": {
            "text/plain": [
              "array([ 906.46759178, 1141.43815458, 1059.09320489,  992.72175445,\n",
              "       1008.52319143,  968.4257042 , 1006.29932888, 1001.38807413,\n",
              "       1163.80728167,  930.84516941,  820.99054458])"
            ]
          },
          "execution_count": 42,
          "metadata": {},
          "output_type": "execute_result"
        }
      ],
      "source": [
        "scale_and_offset(final_ratings, models)\n",
        "scaled_ratings = scale_and_offset(final_ratings, models)\n",
        "scaled_ratings"
      ]
    },
    {
      "cell_type": "code",
      "execution_count": 41,
      "metadata": {
        "colab": {
          "base_uri": "https://localhost:8080/",
          "height": 583
        },
        "id": "65C7OlJ6I-bR",
        "outputId": "381fe338-eba7-4b7d-d198-8eea279cb5b9"
      },
      "outputs": [
        {
          "name": "stderr",
          "output_type": "stream",
          "text": [
            "<ipython-input-41-e57245e9d39c>:8: MatplotlibDeprecationWarning: The get_cmap function was deprecated in Matplotlib 3.7 and will be removed in 3.11. Use ``matplotlib.colormaps[name]`` or ``matplotlib.colormaps.get_cmap()`` or ``pyplot.get_cmap()`` instead.\n",
            "  colors = plt.cm.get_cmap('viridis', len(models))  # 'viridis', 'plasma', 'rainbow' и др.\n"
          ]
        },
        {
          "data": {
            "image/png": "[encoded data removed]",
            "text/plain": [
              "<Figure size 1500x700 with 1 Axes>"
            ]
          },
          "metadata": {},
          "output_type": "display_data"
        }
      ],
      "source": [
        "import numpy as np\n",
        "import matplotlib.pyplot as plt\n",
        "\n",
        "# Создаём график\n",
        "plt.figure(figsize=(15, 7))\n",
        "\n",
        "# Разные цвета для каждой модели (можно использовать готовую палитру)\n",
        "colors = plt.cm.get_cmap('viridis', len(models))  # 'viridis', 'plasma', 'rainbow' и др.\n",
        "\n",
        "# Рисуем точки с подписями\n",
        "for i, (model, rating) in enumerate(zip(models, scaled_ratings)):\n",
        "    plt.scatter(i, rating, color=colors(i), s=100, label=model)  # s - размер точки\n",
        "    plt.text(i, rating + 15, model, ha='center', va='bottom')  # Подпись над точкой\n",
        "\n",
        "# Настройки графика\n",
        "plt.xticks(range(len(models)), models, rotation=60)  # Подписи по оси X\n",
        "plt.ylabel(\"Rating\")\n",
        "plt.title(\"Model Ratings Comparison\")\n",
        "plt.grid(True, linestyle='--', alpha=0.7)\n",
        "\n",
        "# Легенда (опционально)\n",
        "plt.legend(loc='upper right', bbox_to_anchor=(1.15, 1))\n",
        "\n",
        "plt.tight_layout()  # Чтобы подписи не вылезали за границы\n",
        "plt.show()"
      ]
    }
  ],
  "metadata": {
    "colab": {
      "provenance": []
    },
    "kernelspec": {
      "display_name": "Python 3",
      "name": "python3"
    },
    "language_info": {
      "name": "python"
    }
  },
  "nbformat": 4,
  "nbformat_minor": 0
}
